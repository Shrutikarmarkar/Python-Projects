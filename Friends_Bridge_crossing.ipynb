{
  "nbformat": 4,
  "nbformat_minor": 0,
  "metadata": {
    "colab": {
      "provenance": []
    },
    "kernelspec": {
      "name": "python3",
      "display_name": "Python 3"
    },
    "language_info": {
      "name": "python"
    }
  },
  "cells": [
    {
      "cell_type": "code",
      "execution_count": null,
      "metadata": {
        "colab": {
          "base_uri": "https://localhost:8080/"
        },
        "id": "07-GHCxSQsXR",
        "outputId": "ff182f4d-5bfd-4fa6-a291-6f848e44a950"
      },
      "outputs": [
        {
          "output_type": "stream",
          "name": "stdout",
          "text": [
            "ab\n",
            "================cdab Steps = 17\n",
            "You Won Congrats!!!\n"
          ]
        }
      ],
      "source": [
        "from IPython.display import clear_output\n",
        "dict1 = {\"a\":1,\"b\":2,\"c\":7,\"d\":10}\n",
        "minutes=0\n",
        "var = ''.join(list(dict1.keys()))\n",
        "game = True\n",
        "lamp=\"left\"\n",
        "right_side=''\n",
        "left_side=''.join(list(dict1.keys()))\n",
        "print(dict1)\n",
        "print(left_side + \"================\" + right_side + \" Steps = \" + str(minutes))\n",
        "\n",
        "def lamp_side(lamp,side1,side2):\n",
        "  global minutes\n",
        "  side= side1\n",
        "  other_side = side2\n",
        "  while True:\n",
        "    choose = input('Choose people you wanna take on the other side: ')\n",
        "    clear_output()\n",
        "    print(choose)\n",
        "\n",
        "    if len(choose)>2:\n",
        "      print(\"Too many People on the bridge!!\")\n",
        "      continue\n",
        "\n",
        "    elif len(choose)<1:\n",
        "      print('No human to hold the lamp!')\n",
        "      continue\n",
        "\n",
        "    if len(choose)==2:\n",
        "      if choose[0]==choose[1]:\n",
        "        print('duplicate string entered')\n",
        "        continue\n",
        "\n",
        "      elif choose[0] not in side or choose[1] not in side:\n",
        "        print('choose from one of the available people on other side')\n",
        "        print(side)\n",
        "        continue\n",
        "\n",
        "    else:\n",
        "      if choose[0] not in side:\n",
        "        print('choose from one of the available people on other side')\n",
        "        print(side)\n",
        "        continue\n",
        "\n",
        "    other_side += choose\n",
        "    for people in side:\n",
        "      if people in choose:\n",
        "        side = side.replace(people,\"\")\n",
        "    if (len(choose))==2:\n",
        "      val1 = dict1[choose[0]]\n",
        "      val2 = dict1[choose[1]]\n",
        "      if val1>val2:\n",
        "        minutes+=val1\n",
        "      else:\n",
        "        minutes+=val2\n",
        "    else:\n",
        "      minutes+=dict1[choose[0]]\n",
        "    False\n",
        "    return side,other_side\n",
        "\n",
        "\n",
        "\n",
        "while game:\n",
        "\n",
        "  if lamp == \"right\":\n",
        "    right_side,left_side = lamp_side(lamp,right_side,left_side)\n",
        "    print(left_side + \"================\" + right_side + \" Steps = \" + str(minutes))\n",
        "    lamp = \"left\"\n",
        "\n",
        "  elif lamp == \"left\":\n",
        "    left_side,right_side = lamp_side(lamp,left_side,right_side)\n",
        "    print(left_side + \"================\" + right_side + \" Steps = \" + str(minutes))\n",
        "    lamp = \"right\"\n",
        "\n",
        "\n",
        "  for char in var:\n",
        "    if char not in right_side:\n",
        "      break\n",
        "  else:\n",
        "    print('You Won Congrats!!!')\n",
        "    game=False\n",
        "\n",
        "  if minutes>17:\n",
        "    print('You lose!!')\n",
        "    game=False"
      ]
    },
    {
      "cell_type": "code",
      "source": [],
      "metadata": {
        "id": "dRNePGWoUv8j"
      },
      "execution_count": null,
      "outputs": []
    }
  ]
}