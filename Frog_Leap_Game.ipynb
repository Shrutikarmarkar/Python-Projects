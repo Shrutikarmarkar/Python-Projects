{
  "cells": [
    {
      "cell_type": "code",
      "execution_count": null,
      "metadata": {
        "colab": {
          "base_uri": "https://localhost:8080/"
        },
        "id": "3i-x--EIhnhb",
        "outputId": "537c8591-5136-455c-c184-d764ecaceeca"
      },
      "outputs": [
        {
          "output_type": "stream",
          "name": "stdout",
          "text": [
            "['B', 'B', 'B', '_', 'G', 'G', 'G']\n",
            "Enter position of the frog to move: 2\n",
            "Enter the color of frog to move (B or G): B\n",
            "['B', 'B', '_', 'B', 'G', 'G', 'G']\n",
            "Enter position of the frog to move: 4\n",
            "Enter the color of frog to move (B or G): G\n",
            "['B', 'B', 'G', 'B', '_', 'G', 'G']\n",
            "Enter position of the frog to move: 5\n",
            "Enter the color of frog to move (B or G): G\n",
            "['B', 'B', 'G', 'B', 'G', '_', 'G']\n",
            "Enter position of the frog to move: 3\n",
            "Enter the color of frog to move (B or G): B\n",
            "['B', 'B', 'G', '_', 'G', 'B', 'G']\n",
            "Enter position of the frog to move: 1\n",
            "Enter the color of frog to move (B or G): B\n",
            "['B', '_', 'G', 'B', 'G', 'B', 'G']\n",
            "Enter position of the frog to move: 0\n",
            "Enter the color of frog to move (B or G): B\n",
            "['_', 'B', 'G', 'B', 'G', 'B', 'G']\n",
            "Enter position of the frog to move: 2\n",
            "Enter the color of frog to move (B or G): G\n",
            "['G', 'B', '_', 'B', 'G', 'B', 'G']\n",
            "Enter position of the frog to move: 2\n",
            "Enter the color of frog to move (B or G): G\n",
            "Invalid Move\n",
            "Enter position of the frog to move: 4\n",
            "Enter the color of frog to move (B or G): G\n",
            "['G', 'B', 'G', 'B', '_', 'B', 'G']\n",
            "Enter position of the frog to move: 6\n",
            "Enter the color of frog to move (B or G): G\n",
            "['G', 'B', 'G', 'B', 'G', 'B', '_']\n",
            "Enter position of the frog to move: 5\n",
            "Enter the color of frog to move (B or G): B\n",
            "['G', 'B', 'G', 'B', 'G', '_', 'B']\n",
            "Enter position of the frog to move: 3\n",
            "Enter the color of frog to move (B or G): B\n",
            "['G', 'B', 'G', '_', 'G', 'B', 'B']\n",
            "Enter position of the frog to move: 1\n",
            "Enter the color of frog to move (B or G): B\n",
            "['G', '_', 'G', 'B', 'G', 'B', 'B']\n",
            "Enter position of the frog to move: 2\n",
            "Enter the color of frog to move (B or G): G\n",
            "['G', 'G', '_', 'B', 'G', 'B', 'B']\n",
            "Enter position of the frog to move: 4\n",
            "Enter the color of frog to move (B or G): G\n",
            "['G', 'G', 'G', 'B', '_', 'B', 'B']\n",
            "Enter position of the frog to move: 3\n",
            "Enter the color of frog to move (B or G): B\n",
            "['G', 'G', 'G', '_', 'B', 'B', 'B']\n",
            "You Win\n"
          ]
        }
      ],
      "source": [
        "list1 = ['B','B','B',\"_\",'G','G','G']\n",
        "game = True\n",
        "print(list1)\n",
        "while game:\n",
        "  try:\n",
        "    position = int(input(\"Enter position of the frog to move: \"))\n",
        "    if position>len(list1)-1 or position<0:\n",
        "      print(\"Invalid Input!\")\n",
        "      continue\n",
        "  except:\n",
        "    print(\"Invalid Input, try Again!\")\n",
        "\n",
        "  color = input(\"Enter the color of frog to move (B or G): \")\n",
        "\n",
        "  if color == \"B\":\n",
        "    if list1[position+1]==\"_\":\n",
        "      list1[position] = \"_\"\n",
        "      list1[position+1] = \"B\"\n",
        "    elif list1[position+2]==\"_\":\n",
        "      list1[position] = \"_\"\n",
        "      list1[position+2] = \"B\"\n",
        "    else:\n",
        "      print(\"Invalid Move\")\n",
        "      continue\n",
        "    print(list1)\n",
        "\n",
        "  elif color == \"G\":\n",
        "    if list1[position-1]==\"_\":\n",
        "      list1[position] = \"_\"\n",
        "      list1[position-1] = \"G\"\n",
        "    elif list1[position-2]==\"_\":\n",
        "      list1[position] = \"_\"\n",
        "      list1[position-2] = \"G\"\n",
        "    else:\n",
        "      print(\"Invalid Move\")\n",
        "      continue\n",
        "    print(list1)\n",
        "\n",
        "  else:\n",
        "    print(\"Invalid Input, Try Again!!\")\n",
        "    continue\n",
        "\n",
        "\n",
        "  if list1 == ['G','G','G','_','B','B','B']:\n",
        "    print(\"You Win\")\n",
        "    game = False\n",
        "\n",
        "  else:\n",
        "    flag = False\n",
        "    for i,frog in enumerate(list1):\n",
        "      if frog == 'G':\n",
        "        if list1[i-1] == '_' or list1[i-2] == '_':\n",
        "          flag = True\n",
        "          break\n",
        "\n",
        "      elif frog == 'B':\n",
        "        if list1[i+1] == '_' or list1[i+2] == '_':\n",
        "          flag = True\n",
        "          break\n",
        "\n",
        "  if flag == False:\n",
        "    print('Oops,they are stuck!')\n",
        "    game = False\n"
      ]
    },
    {
      "cell_type": "code",
      "execution_count": null,
      "metadata": {
        "id": "AnxU7NDijqpD"
      },
      "outputs": [],
      "source": []
    },
    {
      "cell_type": "code",
      "source": [],
      "metadata": {
        "id": "Kv3cEpMv2jRS"
      },
      "execution_count": null,
      "outputs": []
    }
  ],
  "metadata": {
    "colab": {
      "provenance": []
    },
    "kernelspec": {
      "display_name": "Python 3",
      "name": "python3"
    },
    "language_info": {
      "name": "python"
    }
  },
  "nbformat": 4,
  "nbformat_minor": 0
}