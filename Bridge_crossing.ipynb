{
  "cells": [
    {
      "cell_type": "markdown",
      "metadata": {
        "id": "gUG0VzjwD-YD"
      },
      "source": [
        "\n",
        "# Bridge Crossing Puzzle Game  \n",
        "\n",
        "#### In this project, you will create a Bridge Crossing puzzle game using Python\n",
        "\\\n",
        "\n",
        "[Play Game!](https://www.novelgames.com/en/bridge/)\n",
        "\n",
        "## Notebook Content :\n",
        "\n",
        "- **Lesson 1 :**\n",
        "  - Setting up the initial environment of the game.\n",
        "\n",
        "\n",
        "- **Lesson 2 :**\n",
        "  - Adding the required valid and invalid conditions alongwith their operations.\n",
        "\n",
        "- **Lesson 3 :**\n",
        "  - Combining all segments of the code to build the game.\n",
        "\n",
        "- **Lesson 4 :**\n",
        "  - Adding funcion to complete the game with better interface.\n",
        "\n",
        "\n"
      ]
    },
    {
      "cell_type": "markdown",
      "metadata": {
        "id": "Bh5sab0mE2Jk"
      },
      "source": [
        "### Rules and goal:\n",
        "* Take all 5 people to the other side of bridge before lamp light runs out\n",
        "* lamp light runs for 30 minutes and lamp needs to be held by a person\n",
        "  \n",
        "* each person takes different time to cross bridge and can travel back and forth with lamp and bridge can only hold maximum 2 people at a time\n"
      ]
    },
    {
      "cell_type": "markdown",
      "metadata": {
        "id": "wXvrAaZxF6cm"
      },
      "source": [
        "## <center>**Lesson 1**</center>\n",
        "\n",
        "#### <center>**Setting up the initial environment of the game**</center>"
      ]
    },
    {
      "cell_type": "markdown",
      "metadata": {
        "id": "3ah5OwpXF4_0"
      },
      "source": [
        "Define variable for each person with corresponding time as value\n",
        "variable `a,b,c,d,e` with values `1,3,6,8,12` \\\n",
        "\n",
        "and display them\n",
        "` a = 1 ,\n",
        " b = 3 ,\n",
        " c = 6  ,\n",
        " d = 8 ,\n",
        " e = 12 `"
      ]
    },
    {
      "cell_type": "code",
      "execution_count": null,
      "metadata": {
        "id": "6k9nDKN1D_L7"
      },
      "outputs": [],
      "source": [
        "dict1 = {\"a\" : 1 , \"b\" : 3 , \"c\" : 6 , \"d\" : 8 , \"e\" : 12}"
      ]
    },
    {
      "cell_type": "code",
      "execution_count": null,
      "metadata": {
        "id": "sSZUH7CRlRDU"
      },
      "outputs": [],
      "source": []
    },
    {
      "cell_type": "markdown",
      "metadata": {
        "id": "Qdj27NK6HtWJ"
      },
      "source": [
        "Define more variables for total number of `minutes` as 0, the side on which `lamp` is which is 'left' , total people on `right` side as 'abcde' and total people intialy on `left` side as \" \"(empty string)  \n",
        "and print the left and right variables\n",
        "\n",
        "- **List of Variables :**\n",
        "`minutes, lamp, right, left`"
      ]
    },
    {
      "cell_type": "code",
      "execution_count": null,
      "metadata": {
        "colab": {
          "base_uri": "https://localhost:8080/"
        },
        "id": "N4h-byfbD_Ds",
        "outputId": "93a2c08b-2a70-4dd7-9460-ebb583a5df46"
      },
      "outputs": [
        {
          "name": "stdout",
          "output_type": "stream",
          "text": [
            "People on right side = abcde\n",
            "People on left side = \n"
          ]
        }
      ],
      "source": [
        "minutes=0\n",
        "lamp=\"right\"\n",
        "right_side='abcde'\n",
        "left_side=\"\"\n",
        "print(\"People on right side = \" + right_side)\n",
        "print(\"People on left side = \" + left_side)"
      ]
    },
    {
      "cell_type": "markdown",
      "metadata": {
        "id": "5mSyiwV_9Ril"
      },
      "source": [
        "## <center>**Lesson 2**</center>\n",
        "#### <center>**Adding the required valid and invalid conditions alongwith their operations**</center>\n"
      ]
    },
    {
      "cell_type": "markdown",
      "metadata": {
        "id": "KQ5Nt2M24C4c"
      },
      "source": [
        "#**<center>  Code flow for right side</center>**"
      ]
    },
    {
      "cell_type": "markdown",
      "metadata": {
        "id": "SylO_mgo4K8M"
      },
      "source": [
        "Check if the lamp is on right side and take input for whom to take from `right_to_left` for whom to take from right to left using bridge\n",
        "\n",
        "**Note :** Make sure you pass the appropriate message in the input function that assists user in entering the values.\n",
        "\n",
        "**Note :** user will enter the string of whom they want to take from right to left ex- 'ac'\n",
        "\n"
      ]
    },
    {
      "cell_type": "code",
      "execution_count": null,
      "metadata": {
        "colab": {
          "base_uri": "https://localhost:8080/"
        },
        "id": "K-HOlrCx4FB6",
        "outputId": "a39465d4-0d75-4a86-8492-563db3f98b0d"
      },
      "outputs": [
        {
          "name": "stdout",
          "output_type": "stream",
          "text": [
            "Choose people to take on the left side\n",
            "ac\n"
          ]
        }
      ],
      "source": [
        "if lamp==\"right\":\n",
        "  print(\"Choose people to take on the left side\")\n",
        "  input1 = input()"
      ]
    },
    {
      "cell_type": "markdown",
      "metadata": {
        "id": "MKmTjD4F5e3-"
      },
      "source": [
        "Check the number of people on bridge if it exceeds 2 or is less than 1 display 'too many humans on bridge!!' or 'no human to hold lamp'\n",
        "\n",
        "\n",
        "**Note :** The following code cells will be common for both right side and left side"
      ]
    },
    {
      "cell_type": "code",
      "execution_count": null,
      "metadata": {
        "id": "H0rksd_n4FFg"
      },
      "outputs": [],
      "source": [
        "if len(input1)>2:\n",
        "  print(\"too many humans on bridge!!\")\n",
        "elif len(input1)<1:\n",
        "  print('no human to hold lamp')"
      ]
    },
    {
      "cell_type": "markdown",
      "metadata": {
        "id": "_ay03eOY5xB_"
      },
      "source": [
        "Check if the people(values) entered by user in `right_to_left` variable\n",
        " * are not repeated variable if repeated display 'duplicate string entered'\n",
        " * are available in `right` if not display 'choose from one of the available people on right side' and display possible choices to choose from"
      ]
    },
    {
      "cell_type": "code",
      "execution_count": null,
      "metadata": {
        "id": "POLSCpZk4FJO"
      },
      "outputs": [],
      "source": [
        "if len(input1)==2:\n",
        "  if input1[0]==input1[1]:\n",
        "    print('duplicate string entered')\n",
        "  if input1[0] not in right_side or input1[1] not in right_side:\n",
        "    print('choose from one of the available people on right side')\n",
        "    print(right_side)\n",
        "\n",
        "else:\n",
        "  if input1[0] not in right_side:\n",
        "    print('choose from one of the available people on right side')\n",
        "    print(right_side)"
      ]
    },
    {
      "cell_type": "markdown",
      "metadata": {
        "id": "Fd7DCLiz5_4L"
      },
      "source": [
        "Add all the people from `right_to_left` variable on `left` side and remove from `right` side"
      ]
    },
    {
      "cell_type": "code",
      "execution_count": null,
      "metadata": {
        "id": "fRVlecaM4FMt"
      },
      "outputs": [],
      "source": [
        "left_side += input1\n",
        "for people in right_side:\n",
        "  if people in input1:\n",
        "    right_side = right_side.replace(people,\"\")"
      ]
    },
    {
      "cell_type": "markdown",
      "metadata": {
        "id": "AgBEz07y6HKn"
      },
      "source": [
        "Check for the person with maximum time from the ones entered on `right_to_left` variable and add its time in `minutes` variable"
      ]
    },
    {
      "cell_type": "code",
      "execution_count": null,
      "metadata": {
        "id": "ZEHn1WJt4FP_"
      },
      "outputs": [],
      "source": [
        "if (len(input1))==2:\n",
        "  val1 = dict1[input1[0]]\n",
        "  val2 = dict1[input1[1]]\n",
        "  if val1>val2:\n",
        "    minutes+=val1\n",
        "  else:\n",
        "    minutes+=val2\n",
        "else:\n",
        "  minutes+=dict1[input1[0]]"
      ]
    },
    {
      "cell_type": "markdown",
      "metadata": {
        "id": "FWTFThnK6Zl4"
      },
      "source": [
        "Display the total people on `left` and `right` along with total minutes till now and change the value in `lamp` to 'left'  \n",
        "sample output - `'ab ================ cde  Steps = 3'`\n"
      ]
    },
    {
      "cell_type": "code",
      "execution_count": null,
      "metadata": {
        "colab": {
          "base_uri": "https://localhost:8080/"
        },
        "id": "_rbReXVM4FS5",
        "outputId": "57a51800-4a3e-4d22-9eb8-29941e5e663f"
      },
      "outputs": [
        {
          "name": "stdout",
          "output_type": "stream",
          "text": [
            "ac================bde Steps = 6\n"
          ]
        }
      ],
      "source": [
        "print(left_side + \"================\" + right_side + \" Steps = \" + str(minutes))\n",
        "lamp= \"left\""
      ]
    },
    {
      "cell_type": "markdown",
      "metadata": {
        "id": "9Oy0pbGz2Fec"
      },
      "source": [
        "#**<center>  Code flow for left side</center>**"
      ]
    },
    {
      "cell_type": "markdown",
      "metadata": {
        "id": "uUkspcHDuqqW"
      },
      "source": [
        "Check if the lamp is on right side and take input in variable `left_to_right` for whom to take from left to right using bridge\n",
        "\n",
        "**Note :** Make sure you pass the appropriate message in the input function that assists user in entering the values.\n",
        "\n",
        "**Note :** user will enter the string of whom they want to take from left to right ex- 'ac'\n",
        "\n"
      ]
    },
    {
      "cell_type": "code",
      "execution_count": null,
      "metadata": {
        "colab": {
          "base_uri": "https://localhost:8080/"
        },
        "id": "oodHagD7D-6t",
        "outputId": "66e717db-bad4-4e69-c893-b2691bce4b7d"
      },
      "outputs": [
        {
          "name": "stdout",
          "output_type": "stream",
          "text": [
            "Choose people to take on the right side\n",
            "c\n"
          ]
        }
      ],
      "source": [
        "if lamp==\"left\":\n",
        "  print(\"Choose people to take on the right side\")\n",
        "  input1 = input()"
      ]
    },
    {
      "cell_type": "markdown",
      "metadata": {
        "id": "ILkfJcQ0wavl"
      },
      "source": [
        "Check the number of people on bridge if it exceeds 2 or is less than 1 display 'too many humans on bridge!!' or 'no human to hold lamp'\n",
        "\n",
        "\n",
        "**Note :** The following code cells will be common for both right side and left side"
      ]
    },
    {
      "cell_type": "code",
      "execution_count": null,
      "metadata": {
        "id": "TU17coc-D-NZ"
      },
      "outputs": [],
      "source": [
        "if len(input1)>2:\n",
        "  print(\"too many humans on bridge!!\")\n",
        "elif len(input1)<1:\n",
        "  print('no human to hold lamp')"
      ]
    },
    {
      "cell_type": "markdown",
      "metadata": {
        "id": "Eau5NSrZxxzo"
      },
      "source": [
        "Check if the people(values) entered by user in `left_to_right` variable\n",
        " * are not repeated variable if repeated display 'duplicate string entered'\n",
        " * are available in `left` if not display 'choose from one of the available people on left side' and display possible choices to choose from"
      ]
    },
    {
      "cell_type": "code",
      "execution_count": null,
      "metadata": {
        "id": "6JVXSjbHxxLk"
      },
      "outputs": [],
      "source": [
        "if len(input1)==2:\n",
        "  if input1[0]==input1[1]:\n",
        "    print('duplicate string entered')\n",
        "  if input1[0] not in left_side or input1[1] not in left_side:\n",
        "    print('choose from one of the available people on left side')\n",
        "    print(left_side)\n",
        "else:\n",
        "  if input1[0] not in left_side:\n",
        "    print('choose from one of the available people on left side')\n",
        "    print(left_side)"
      ]
    },
    {
      "cell_type": "markdown",
      "metadata": {
        "id": "z__qhC2qzY-j"
      },
      "source": [
        "Add all the people from `left_to_right` variable on `right` side and remove from `left` side"
      ]
    },
    {
      "cell_type": "code",
      "execution_count": null,
      "metadata": {
        "id": "yQ9_YsQBzYaH"
      },
      "outputs": [],
      "source": [
        "right_side += input1\n",
        "for people in left_side:\n",
        "  if people in input1:\n",
        "    left_side = left_side.replace(people,\"\")"
      ]
    },
    {
      "cell_type": "markdown",
      "metadata": {
        "id": "zZVtfIJFz9Ds"
      },
      "source": [
        "Check for the person with maximum time from the ones entered on `left_to_right` variable and add its time in `minutes` variable"
      ]
    },
    {
      "cell_type": "code",
      "execution_count": null,
      "metadata": {
        "id": "DBlt0kXBz9K-"
      },
      "outputs": [],
      "source": [
        "if (len(input1))==2:\n",
        "  val1 = dict1[input1[0]]\n",
        "  val2 = dict1[input1[1]]\n",
        "  if val1>val2:\n",
        "    minutes+=val1\n",
        "  else:\n",
        "    minutes+=val2\n",
        "else:\n",
        "  minutes+=dict1[input1[0]]"
      ]
    },
    {
      "cell_type": "markdown",
      "metadata": {
        "id": "pHiyLoGID-FL"
      },
      "source": [
        "Display the total people on `left` and `right` along with total minutes till now and change the value in `lamp` with 'right'  \n",
        "sample output - `'cde ================ ab Steps = 3'`\n"
      ]
    },
    {
      "cell_type": "code",
      "execution_count": null,
      "metadata": {
        "colab": {
          "base_uri": "https://localhost:8080/"
        },
        "id": "xAHmu6Li0mHU",
        "outputId": "db274754-417a-49cf-bcee-513c9264ba40"
      },
      "outputs": [
        {
          "name": "stdout",
          "output_type": "stream",
          "text": [
            "a================bdec Steps = 12\n"
          ]
        }
      ],
      "source": [
        "print(left_side + \"================\" + right_side + \" Steps = \" + str(minutes))\n",
        "lamp= \"right\""
      ]
    },
    {
      "cell_type": "markdown",
      "metadata": {
        "id": "gSYc6Ty60mPf"
      },
      "source": [
        "#**<center> Condition for losing and winning</center>**"
      ]
    },
    {
      "cell_type": "markdown",
      "metadata": {
        "id": "uhidB0fa7Nxj"
      },
      "source": [
        "Add winning condition:\n",
        "* if all the people are on the left side of bridge display 'You Won Congrats!!!'\n"
      ]
    },
    {
      "cell_type": "code",
      "execution_count": null,
      "metadata": {
        "id": "UT8i0kjs1tay"
      },
      "outputs": [],
      "source": [
        "if \"abcde\" in left_side:\n",
        "  print( 'You Won Congrats!!!')"
      ]
    },
    {
      "cell_type": "markdown",
      "metadata": {
        "id": "2uIYbZdx1teb"
      },
      "source": [
        "Add Losing Condition:\n",
        "* If minutes is above 30  display 'You lose!!'"
      ]
    },
    {
      "cell_type": "code",
      "execution_count": null,
      "metadata": {
        "id": "kBA3i1YJ1pUB"
      },
      "outputs": [],
      "source": [
        "if minutes>30:\n",
        "  print('You lose!!')"
      ]
    },
    {
      "cell_type": "markdown",
      "metadata": {
        "id": "euWU_ARz9pnb"
      },
      "source": [
        "## <center>**Lesson 3**</center>\n",
        "#### <center>**Combining all segments of the code to build the game**</center>"
      ]
    },
    {
      "cell_type": "markdown",
      "metadata": {
        "id": "Qgn8GI50DEBp"
      },
      "source": [
        "# Structure of combined code:\n",
        "\n",
        "\n",
        "```\n",
        "variable declaration and initial print statement\n",
        "```\n",
        "Create an infinite loop:\n",
        "\n",
        "```\n",
        "if boat is on right side :\n",
        "```\n",
        "### <center> **Code flow for right side** </center>\n",
        "```\n",
        " Taking input checking for valid and invalid inputs  \n",
        " Moving people from right to left\n",
        "```\n",
        "\n",
        "### <center> **Code flow for left side** </center>\n",
        "```\n",
        " Taking input checking for valid and invalid inputs  \n",
        " Moving people from left to right\n",
        "```\n",
        "```\n",
        "add winning condition and losing condition\n",
        "```\n"
      ]
    },
    {
      "cell_type": "code",
      "execution_count": null,
      "metadata": {
        "colab": {
          "background_save": true,
          "base_uri": "https://localhost:8080/"
        },
        "id": "wLZanFaX1peY",
        "outputId": "e017659f-4614-47e4-c5c8-92d0ec01e67a"
      },
      "outputs": [
        {
          "name": "stdout",
          "output_type": "stream",
          "text": [
            "People on right side = abcde\n",
            "People on left side = \n",
            "================abcde Steps = 0\n",
            "Choose people to take on the left side\n"
          ]
        }
      ],
      "source": [
        "dict1 = {\"a\" : 1 , \"b\" : 3 , \"c\" : 6 , \"d\" : 8 , \"e\" : 12}\n",
        "var = \"abcde\"\n",
        "game=True\n",
        "minutes=0\n",
        "lamp=\"right\"\n",
        "right_side='abcde'\n",
        "left_side=\"\"\n",
        "print(\"People on right side = \" + right_side)\n",
        "print(\"People on left side = \" + left_side)\n",
        "print(left_side + \"================\" + right_side + \" Steps = \" + str(minutes))\n",
        "\n",
        "while game:\n",
        "\n",
        "  if lamp==\"right\":\n",
        "    print(\"Choose people to take on the left side\")\n",
        "    input1 = input()\n",
        "    if len(input1)>2:\n",
        "      print(\"too many humans on bridge!!\")\n",
        "      continue\n",
        "    if len(input1)<1:\n",
        "      print('no human to hold lamp')\n",
        "      continue\n",
        "\n",
        "    if len(input1)==2:\n",
        "      while input1[0]==input1[1]:\n",
        "        print('duplicate string entered')\n",
        "        continue\n",
        "      while input1[0] not in right_side or input1[1] not in right_side:\n",
        "        print('choose from one of the available people on right side')\n",
        "        print(right_side)\n",
        "        continue\n",
        "    else:\n",
        "      while input1[0] not in right_side:\n",
        "        print('choose from one of the available people on right side')\n",
        "        print(right_side)\n",
        "        continue\n",
        "\n",
        "    left_side += input1\n",
        "    for people in right_side:\n",
        "      if people in input1:\n",
        "        right_side = right_side.replace(people,\"\")\n",
        "    if (len(input1))==2:\n",
        "      val1 = dict1[input1[0]]\n",
        "      val2 = dict1[input1[1]]\n",
        "      if val1>val2:\n",
        "        minutes+=val1\n",
        "      else:\n",
        "        minutes+=val2\n",
        "    else:\n",
        "      minutes+=dict1[input1[0]]\n",
        "\n",
        "    print(left_side + \"================\" + right_side + \" Steps = \" + str(minutes))\n",
        "    lamp= \"left\"\n",
        "\n",
        "  elif lamp==\"left\":\n",
        "     print(\"Choose people to take on the right side\")\n",
        "     input1 = input()\n",
        "     while len(input1)>2:\n",
        "      print(\"too many humans on bridge!!\")\n",
        "      continue\n",
        "     while len(input1)<1:\n",
        "      print('no human to hold lamp')\n",
        "      continue\n",
        "\n",
        "     if len(input1)==2:\n",
        "        while input1[0]==input1[1]:\n",
        "          print('duplicate string entered')\n",
        "          continue\n",
        "        while input1[0] not in left_side or input1[1] not in left_side:\n",
        "          print('choose from one of the available people on left side')\n",
        "          print(left_side)\n",
        "          continue\n",
        "     else:\n",
        "        while input1[0] not in left_side:\n",
        "          print('choose from one of the available people on left side')\n",
        "          print(left_side)\n",
        "          continue\n",
        "\n",
        "     right_side += input1\n",
        "     for people in left_side:\n",
        "        if people in input1:\n",
        "          left_side = left_side.replace(people,\"\")\n",
        "\n",
        "     if (len(input1))==2:\n",
        "        val1 = dict1[input1[0]]\n",
        "        val2 = dict1[input1[1]]\n",
        "        if val1>val2:\n",
        "          minutes+=val1\n",
        "        else:\n",
        "          minutes+=val2\n",
        "     else:\n",
        "        minutes+=dict1[input1[0]]\n",
        "     print(left_side + \"================\" + right_side + \" Steps = \" + str(minutes))\n",
        "     lamp= \"right\"\n",
        "\n",
        "  for char in var:\n",
        "    if char not in left_side:\n",
        "      break\n",
        "  else:\n",
        "    print('You Won Congrats!!!')\n",
        "    game=False\n",
        "\n",
        "  if minutes>30:\n",
        "    print('You lose!!')\n",
        "    game=False\n"
      ]
    },
    {
      "cell_type": "markdown",
      "metadata": {
        "id": "sC0Ro4cc9sYr"
      },
      "source": [
        "## <center>**Lesson 4**</center>\n",
        "\n",
        "####<center>**Adding emoticons to complete the game with better interface**</center>"
      ]
    },
    {
      "cell_type": "markdown",
      "metadata": {
        "id": "j3JMPIhp99l6"
      },
      "source": [
        "`👶 a = 1 👦b = 3 👨c = 6 👩d = 8 👵e=12 ` change the values a,b,c,d,e with corresponding emoji while display"
      ]
    },
    {
      "cell_type": "code",
      "execution_count": null,
      "metadata": {
        "colab": {
          "base_uri": "https://localhost:8080/"
        },
        "id": "o9uJaUGBDjfV",
        "outputId": "a00615c4-7c22-4827-9a6e-15e4ab73402e"
      },
      "outputs": [
        {
          "name": "stdout",
          "output_type": "stream",
          "text": [
            "   \n",
            " 👶 a : 1 min\n",
            " 👦 b : 3 min\n",
            " 👨 c : 6 min \n",
            " 👩 d : 8 min\n",
            " 👵 e : 12 min \n",
            "👶 a = 1 👦b = 3 👨c = 6 👩d = 8 👵e=12 \n"
          ]
        }
      ],
      "source": [
        "print('''\n",
        " 👶 a : 1 min\n",
        " 👦 b : 3 min\n",
        " 👨 c : 6 min\n",
        " 👩 d : 8 min\n",
        " 👵 e : 12 min ''')\n",
        "a=1\n",
        "b=3\n",
        "c=6\n",
        "d=8\n",
        "e=12\n",
        "print(f\"👶 a = {a} 👦b = {b} 👨c = {c} 👩d = {d} 👵e={e} \")"
      ]
    },
    {
      "cell_type": "markdown",
      "metadata": {
        "id": "7jQFYbtLHDGG"
      },
      "source": [
        "Add the disp function given below and call it every time you need to convert your string into emoticons\n",
        "\n",
        "**Note:** Don't worry if you don't get code for this function it just converts strings to emoticons for us so we only need to understand how to use it not how it works just try different string values in it and see how it works"
      ]
    },
    {
      "cell_type": "code",
      "execution_count": null,
      "metadata": {
        "colab": {
          "base_uri": "https://localhost:8080/",
          "height": 36
        },
        "id": "ler2UuOaHQCo",
        "outputId": "456cdeb4-19e5-43d8-dfa0-3d4413669986"
      },
      "outputs": [
        {
          "data": {
            "application/vnd.google.colaboratory.intrinsic+json": {
              "type": "string"
            },
            "text/plain": [
              "'👶👦'"
            ]
          },
          "execution_count": 1,
          "metadata": {},
          "output_type": "execute_result"
        }
      ],
      "source": [
        "# d={'a':'👶','b':'👦','c':'👨','d':'👩','e':'👵'}\n",
        "# d\n",
        "def disp(var):\n",
        "  d={'a':'👶','b':'👦','c':'👨','d':'👩','e':'👵'}\n",
        "  display=''\n",
        "  for i in var:\n",
        "    if i in d:\n",
        "      display+=d[i]\n",
        "    else:\n",
        "      return ('Enter valid string')\n",
        "  return display\n",
        "disp('ab')"
      ]
    },
    {
      "cell_type": "code",
      "execution_count": null,
      "metadata": {
        "colab": {
          "base_uri": "https://localhost:8080/"
        },
        "id": "485EAdur914O",
        "outputId": "555a4467-b81e-4348-cddf-03a40849b4fd"
      },
      "outputs": [
        {
          "output_type": "stream",
          "name": "stdout",
          "text": [
            "\n",
            " 👶 a : 1 min\n",
            " 👦 b : 3 min\n",
            " 👨 c : 6 min \n",
            " 👩 d : 8 min\n",
            " 👵 e : 12 min \n",
            "Choose people to take on the left side\n",
            "ab\n",
            "👶👦================👨👩👵 Steps = 3\n",
            "Choose people to take on the right side\n",
            "b\n",
            "👶================👨👩👵👦 Steps = 6\n",
            "Choose people to take on the left side\n",
            "ed\n",
            "👶👵👩================👨👦 Steps = 18\n",
            "Choose people to take on the right side\n",
            "a\n",
            "👵👩================👨👦👶 Steps = 19\n",
            "Choose people to take on the left side\n",
            "ac\n",
            "👵👩👶👨================👦 Steps = 25\n",
            "Choose people to take on the right side\n",
            "a\n",
            "👵👩👨================👦👶 Steps = 26\n",
            "Choose people to take on the left side\n",
            "ab\n",
            "👵👩👨👶👦================ Steps = 29\n",
            "You Won Congrats!!!\n"
          ]
        }
      ],
      "source": [
        "def disp(var):\n",
        "  d={'a':'👶','b':'👦','c':'👨','d':'👩','e':'👵'}\n",
        "  display=''\n",
        "  for i in var:\n",
        "    if i in d:\n",
        "      display+=d[i]\n",
        "    else:\n",
        "      return ('Enter valid string')\n",
        "  return display\n",
        "\n",
        "dict1 = {\"a\" : 1 , \"b\" : 3 , \"c\" : 6 , \"d\" : 8 , \"e\" : 12}\n",
        "var = \"abcde\"\n",
        "game=True\n",
        "minutes=0\n",
        "lamp=\"right\"\n",
        "right_side='abcde'\n",
        "left_side=\"\"\n",
        "print('''\n",
        " 👶 a : 1 min\n",
        " 👦 b : 3 min\n",
        " 👨 c : 6 min\n",
        " 👩 d : 8 min\n",
        " 👵 e : 12 min ''')\n",
        "\n",
        "while game:\n",
        "  if lamp==\"right\":\n",
        "    print(\"Choose people to take on the left side\")\n",
        "    input1 = input()\n",
        "    while len(input1)>2:\n",
        "      print(\"too many humans on bridge!!\")\n",
        "      continue\n",
        "    while len(input1)<1:\n",
        "      print('no human to hold lamp')\n",
        "      continue\n",
        "\n",
        "    if len(input1)==2:\n",
        "      while input1[0]==input1[1]:\n",
        "        print('duplicate string entered')\n",
        "        continue\n",
        "      while input1[0] not in right_side or input1[1] not in right_side:\n",
        "        print('choose from one of the available people on right side')\n",
        "        print(right_side)\n",
        "        continue\n",
        "    else:\n",
        "      while input1[0] not in right_side:\n",
        "        print('choose from one of the available people on right side')\n",
        "        print(right_side)\n",
        "        continue\n",
        "\n",
        "    left_side += input1\n",
        "    for people in right_side:\n",
        "      if people in input1:\n",
        "        right_side = right_side.replace(people,\"\")\n",
        "    if (len(input1))==2:\n",
        "      val1 = dict1[input1[0]]\n",
        "      val2 = dict1[input1[1]]\n",
        "      if val1>val2:\n",
        "        minutes+=val1\n",
        "      else:\n",
        "        minutes+=val2\n",
        "    else:\n",
        "      minutes+=dict1[input1[0]]\n",
        "\n",
        "    print(disp(left_side) + \"================\" + disp(right_side) + \" Steps = \" + str(minutes))\n",
        "    lamp= \"left\"\n",
        "\n",
        "  elif lamp==\"left\":\n",
        "     print(\"Choose people to take on the right side\")\n",
        "     input1 = input()\n",
        "     while len(input1)>2:\n",
        "      print(\"too many humans on bridge!!\")\n",
        "      input1 = input()\n",
        "     while len(input1)<1:\n",
        "      print('no human to hold lamp')\n",
        "      input1 = input()\n",
        "\n",
        "     if len(input1)==2:\n",
        "        while input1[0]==input1[1]:\n",
        "          print('duplicate string entered')\n",
        "          continue\n",
        "        while input1[0] not in left_side or input1[1] not in left_side:\n",
        "          print('choose from one of the available people on left side')\n",
        "          print(left_side)\n",
        "          continue\n",
        "     else:\n",
        "        while input1[0] not in left_side:\n",
        "          print('choose from one of the available people on left side')\n",
        "          print(left_side)\n",
        "          continue\n",
        "\n",
        "     right_side += input1\n",
        "     for people in left_side:\n",
        "        if people in input1:\n",
        "          left_side = left_side.replace(people,\"\")\n",
        "\n",
        "     if (len(input1))==2:\n",
        "        val1 = dict1[input1[0]]\n",
        "        val2 = dict1[input1[1]]\n",
        "        if val1>val2:\n",
        "          minutes+=val1\n",
        "        else:\n",
        "          minutes+=val2\n",
        "     else:\n",
        "        minutes+=dict1[input1[0]]\n",
        "     print(disp(left_side) + \"================\" + disp(right_side) + \" Steps = \" + str(minutes))\n",
        "     lamp= \"right\"\n",
        "\n",
        "  if minutes>30:\n",
        "    print('You lose!!')\n",
        "    game=False\n",
        "    break\n",
        "\n",
        "  for char in var:\n",
        "    if char not in left_side:\n",
        "      break\n",
        "  else:\n",
        "    print('You Won Congrats!!!')\n",
        "    game=False\n",
        "\n"
      ]
    },
    {
      "cell_type": "code",
      "source": [],
      "metadata": {
        "id": "zLVdqIE3H1Xd"
      },
      "execution_count": null,
      "outputs": []
    }
  ],
  "metadata": {
    "colab": {
      "provenance": []
    },
    "kernelspec": {
      "display_name": "Python 3",
      "name": "python3"
    },
    "language_info": {
      "name": "python"
    }
  },
  "nbformat": 4,
  "nbformat_minor": 0
}