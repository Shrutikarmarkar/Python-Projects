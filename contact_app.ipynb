{
  "cells": [
    {
      "cell_type": "markdown",
      "metadata": {
        "id": "oXFis0LaZH9J"
      },
      "source": [
        "# Contact app\n",
        "\n",
        "You have learnt a lot of new things; data structures, string, regex & files. Lets use all our newly acquired knowledge to build a **contact app**, just like the ones in our smartphone.\n",
        "\n",
        "We will not be building a fancy UI, instead we will focus on understanding the programming logic.\n",
        "\n",
        "Lets get started!\n",
        "\n",
        "Think of all the features that your contact app has . . . !\n",
        "- It can show you all the contact names\n",
        "- You can search for contacts (using name)\n",
        "- You can see all the information associated with the contact\n",
        "- You can delete and update contacts\n",
        "\n",
        "Can you think of anything more ? Our contact app should have at least these features.\n",
        "- The app should show us all the contact names\n",
        "- It should allow us to select a contact and view all the information associated with the contact\n",
        "- It should allow us to update contact info & delete contact\n",
        "- Finally, it should show us all the contact names\n",
        "\n",
        "For every contact, we will store the `name`, `number` & `email`."
      ]
    },
    {
      "cell_type": "markdown",
      "metadata": {
        "id": "Gd1OuHe_ZH9L"
      },
      "source": [
        "### Data Structure\n",
        "The very first thing that we need to decide is \"What data structure to use?\"\n",
        "\n",
        "To store all the contacts, we can use a list of dictionaries; were each dictionary stores the `name`, `number` & `email`  of the contact.\n",
        "\n",
        "Create a list of dictionaries called `contacts` with 3 dummy contacts.  "
      ]
    },
    {
      "cell_type": "code",
      "execution_count": null,
      "metadata": {
        "id": "76zNi9cbZH9M"
      },
      "outputs": [],
      "source": [
        "contacts = [{\"name\":\"Anushka\",\"number\":\"8745963258\",\"email\":'anushka123@gmail.com'},{\"name\":\"Aditya\",\"number\":\"8754236478\",\"email\":'aditya567@gmail.com'},{\"name\":\"Kabir\",\"number\":\"8956398745\",\"email\":'kabir891@gmail.com'}]"
      ]
    },
    {
      "cell_type": "markdown",
      "metadata": {
        "id": "k4T-q_RJZH9N"
      },
      "source": [
        "### List all contact names\n",
        "Write `show_contacts` function that takes the `contacts` list and prints all the contact names. These names will help us to select the contact later."
      ]
    },
    {
      "cell_type": "code",
      "execution_count": null,
      "metadata": {
        "id": "ZMdbR91vZH9N"
      },
      "outputs": [],
      "source": [
        "def show_contacts(contacts):\n",
        "    for i in range (len(contacts)):\n",
        "      print(contacts[i]['name'])"
      ]
    },
    {
      "cell_type": "code",
      "execution_count": null,
      "metadata": {
        "colab": {
          "base_uri": "https://localhost:8080/"
        },
        "id": "YliIY35_ZH9O",
        "outputId": "ed58f1d2-8fa2-43cf-c395-94738914c266"
      },
      "outputs": [
        {
          "output_type": "stream",
          "name": "stdout",
          "text": [
            "Anushka\n",
            "Aditya\n",
            "Kabir\n"
          ]
        }
      ],
      "source": [
        "show_contacts(contacts)"
      ]
    },
    {
      "cell_type": "markdown",
      "metadata": {
        "id": "rR6Opbw4ZH9O"
      },
      "source": [
        "### Add a new Contact\n",
        "\n",
        "Write `add_contact` function that takes user input and *adds new contact* dictionary to the existing list of `contacts`."
      ]
    },
    {
      "cell_type": "code",
      "execution_count": null,
      "metadata": {
        "id": "xDYaF-oZZH9O"
      },
      "outputs": [],
      "source": [
        "def add_contact(contacts):\n",
        "    name = input(\"Name: \")\n",
        "    num = int(input(\"Number: \"))\n",
        "    email = input(\"Email: \")\n",
        "    dict1 = {'name':name,'number':num,'email':email}\n",
        "\n",
        "    contacts.append(dict1)\n"
      ]
    },
    {
      "cell_type": "code",
      "execution_count": null,
      "metadata": {
        "colab": {
          "base_uri": "https://localhost:8080/"
        },
        "id": "fLT5FRvsZH9P",
        "outputId": "cbf3bed6-fdf7-4fb1-a837-a2ce8d1b42f2"
      },
      "outputs": [
        {
          "name": "stdout",
          "output_type": "stream",
          "text": [
            "Name: Nitya\n",
            "Number: 8969854752\n",
            "Email: nitya456@gmail.com\n"
          ]
        }
      ],
      "source": [
        "add_contact(contacts)"
      ]
    },
    {
      "cell_type": "code",
      "source": [
        "show_contacts(contacts)"
      ],
      "metadata": {
        "colab": {
          "base_uri": "https://localhost:8080/"
        },
        "id": "Z13pwnCQdwbX",
        "outputId": "16e39b35-41c5-405b-d6d8-37c1b3771ccc"
      },
      "execution_count": null,
      "outputs": [
        {
          "output_type": "stream",
          "name": "stdout",
          "text": [
            "Anushka\n",
            "Aditya\n",
            "Kabir\n",
            "Nitya\n"
          ]
        }
      ]
    },
    {
      "cell_type": "markdown",
      "metadata": {
        "id": "jhU-Zkn6ZH9P"
      },
      "source": [
        "### Delete Contact\n",
        "\n",
        "Write `delete_contact` function to delete an existing contact by providing `name` of the contact which we want to delete."
      ]
    },
    {
      "cell_type": "code",
      "execution_count": null,
      "metadata": {
        "id": "mqVd7ZtxZH9Q"
      },
      "outputs": [],
      "source": [
        "def delete_contact(contacts, name):\n",
        "    for i in range(len(contacts)):\n",
        "      if contacts[i]['name'] == name:\n",
        "        del contacts[i]\n",
        "        break"
      ]
    },
    {
      "cell_type": "code",
      "execution_count": null,
      "metadata": {
        "colab": {
          "base_uri": "https://localhost:8080/"
        },
        "id": "DdwpuSUJZH9Q",
        "outputId": "abce446f-e7dd-45a0-8795-ab2d3e537d15"
      },
      "outputs": [
        {
          "output_type": "stream",
          "name": "stdout",
          "text": [
            "Anushka\n",
            "Aditya\n",
            "Nitya\n"
          ]
        }
      ],
      "source": [
        "delete_contact(contacts, \"Kabir\")\n",
        "show_contacts(contacts)"
      ]
    },
    {
      "cell_type": "markdown",
      "metadata": {
        "id": "3ncbbbIcZH9Q"
      },
      "source": [
        "### Update Contact details\n",
        "\n",
        "Let's write `update_contact` function which will *update contact details* such as `name`, `email` & `number`.\n",
        "The functions should take `contacts` and `name` as arguments. It should also print the newly added contact."
      ]
    },
    {
      "cell_type": "code",
      "execution_count": null,
      "metadata": {
        "id": "apHT2q-qZH9R"
      },
      "outputs": [],
      "source": [
        "def update_contact(contacts, Name):\n",
        "    print(\"Enter updated details\")\n",
        "    name = input(\"Name: \")\n",
        "    num = int(input(\"Number: \"))\n",
        "    email = input(\"Email: \")\n",
        "\n",
        "    for i in range(len(contacts)):\n",
        "      if contacts[i]['name'] == Name:\n",
        "        contacts[i]['name'] = name\n",
        "        contacts[i]['number'] = num\n",
        "        contacts[i]['email'] = email\n",
        "\n",
        "    print(show_contacts(contacts))"
      ]
    },
    {
      "cell_type": "code",
      "execution_count": null,
      "metadata": {
        "colab": {
          "base_uri": "https://localhost:8080/"
        },
        "id": "CEoaEr-AZH9R",
        "outputId": "cc8bc577-7183-4961-af50-69a15db2f572"
      },
      "outputs": [
        {
          "output_type": "stream",
          "name": "stdout",
          "text": [
            "Enter updated details\n",
            "Name: Ishaan\n",
            "Number: 9896587423\n",
            "Email: ishaan855@gmail.com\n",
            "Anushka\n",
            "Ishaan\n",
            "Nitya\n",
            "None\n"
          ]
        }
      ],
      "source": [
        "update_contact(contacts, \"Aditya\")"
      ]
    },
    {
      "cell_type": "code",
      "source": [],
      "metadata": {
        "id": "TYeDOukUiNS4"
      },
      "execution_count": null,
      "outputs": []
    },
    {
      "cell_type": "markdown",
      "metadata": {
        "id": "q_VZ4-5tZH9R"
      },
      "source": [
        "### Open Contact\n",
        "`open_contact` function takes the `contacts` list and a `name` string as input. It prints the contact details if `name` matches some contact name in the `contacts` list, else prints `No match found!`.\n",
        "\n",
        "**Note:** The functions should be case insensitive."
      ]
    },
    {
      "cell_type": "code",
      "execution_count": null,
      "metadata": {
        "id": "JnLaGon4ZH9R"
      },
      "outputs": [],
      "source": [
        "def open_contact(contacts, name):\n",
        "    flag = False\n",
        "    for contact in contacts:\n",
        "      if contact['name'] == name:\n",
        "        print(\"Name: \",contact['name'])\n",
        "        print(\"Number: \",contact['number'])\n",
        "        print(\"Email: \",contact['email'])\n",
        "        flag = True\n",
        "\n",
        "    if flag == False:\n",
        "      print('No match found!')\n",
        ""
      ]
    },
    {
      "cell_type": "code",
      "execution_count": null,
      "metadata": {
        "colab": {
          "base_uri": "https://localhost:8080/"
        },
        "id": "VooPCzZLZH9R",
        "outputId": "5363a6c1-7870-44f5-a0cc-b0c726307e57"
      },
      "outputs": [
        {
          "output_type": "stream",
          "name": "stdout",
          "text": [
            "Name:  Anushka\n",
            "Number:  8745963258\n",
            "Email:  anushka123@gmail.com\n"
          ]
        }
      ],
      "source": [
        "open_contact(contacts, \"Anushka\")"
      ]
    },
    {
      "cell_type": "code",
      "source": [
        "open_contact(contacts, \"Nitya\")"
      ],
      "metadata": {
        "colab": {
          "base_uri": "https://localhost:8080/"
        },
        "id": "SzNaz_ukkT9T",
        "outputId": "587d98f3-d0f9-42b7-9b81-2eec4148022e"
      },
      "execution_count": null,
      "outputs": [
        {
          "output_type": "stream",
          "name": "stdout",
          "text": [
            "Name:  Nitya\n",
            "Number:  8969854752\n",
            "Email:  nitya456@gmail.com\n"
          ]
        }
      ]
    },
    {
      "cell_type": "code",
      "source": [
        "open_contact(contacts, \"Zayn\")"
      ],
      "metadata": {
        "colab": {
          "base_uri": "https://localhost:8080/"
        },
        "id": "QvTSGw3pkZO4",
        "outputId": "264833b0-ed64-403c-f7af-5ef772b7da07"
      },
      "execution_count": null,
      "outputs": [
        {
          "output_type": "stream",
          "name": "stdout",
          "text": [
            "No match found!\n"
          ]
        }
      ]
    },
    {
      "cell_type": "markdown",
      "metadata": {
        "id": "vIp0c-QOZH9R"
      },
      "source": [
        "We often see *update* & *delete* options after we open a particular contact. It would be great if we can also implement the same.\n",
        "\n",
        "After opening the contact, the program should wait for user input. The user can press `u` to update & `d` delete contact. Any other key press should be ignored\n",
        "\n",
        "Write the updated `open_contact` function below"
      ]
    },
    {
      "cell_type": "code",
      "execution_count": null,
      "metadata": {
        "id": "taqScEeEZH9S"
      },
      "outputs": [],
      "source": [
        "def open_contact(contacts, name):\n",
        "    flag = False\n",
        "    for contact in contacts:\n",
        "      if contact['name'] == name:\n",
        "        print(\"Name: \",contact['name'])\n",
        "        print(\"Number: \",contact['number'])\n",
        "        print(\"Email: \",contact['email'])\n",
        "        flag = True\n",
        "        operation = input(\"To Delete Press \\\"d\\\" and To Update Press \\\"u\\\"\")\n",
        "        if operation == \"d\":\n",
        "          delete_contact(contacts, name)\n",
        "        elif operation == 'u':\n",
        "          update_contact(contacts, name)\n",
        "        else:\n",
        "          break\n",
        "\n",
        "    if flag == False:\n",
        "      print('No match found!')"
      ]
    },
    {
      "cell_type": "code",
      "execution_count": null,
      "metadata": {
        "colab": {
          "base_uri": "https://localhost:8080/"
        },
        "id": "DJ_xW0fPZH9S",
        "outputId": "75d8f423-8115-4d0f-c1ff-c7a8c5178312"
      },
      "outputs": [
        {
          "name": "stdout",
          "output_type": "stream",
          "text": [
            "Name:  Anushka\n",
            "Number:  8745963258\n",
            "Email:  anushka123@gmail.com\n",
            "To Delete Press \"d\" and To Update Press \"u\" \n"
          ]
        }
      ],
      "source": [
        "open_contact(contacts, \"Anushka\")"
      ]
    },
    {
      "cell_type": "code",
      "source": [
        "show_contacts(contacts)"
      ],
      "metadata": {
        "colab": {
          "base_uri": "https://localhost:8080/"
        },
        "id": "rez26FEWmNCT",
        "outputId": "265995bb-d3fd-428e-e0a8-b286a097d68b"
      },
      "execution_count": null,
      "outputs": [
        {
          "output_type": "stream",
          "name": "stdout",
          "text": [
            "Anushka\n",
            "Ishaan\n",
            "Nitya\n"
          ]
        }
      ]
    },
    {
      "cell_type": "markdown",
      "metadata": {
        "id": "8SGT6N0uZH9S"
      },
      "source": [
        "### Complete application (using all the above functions in use)\n",
        "\n",
        "We will use an infinite loop to encapsulate our application logic and break only when `q` is pressed. We will use `clear_output()` function from `IPython.display` to clear the output before printing anything new.\n",
        "\n",
        "Below is the pseudo-code to help you build the application logic."
      ]
    },
    {
      "cell_type": "code",
      "execution_count": null,
      "metadata": {
        "colab": {
          "base_uri": "https://localhost:8080/"
        },
        "id": "E-j0piZ6ZH9S",
        "outputId": "9283000a-3a99-4bf6-c466-871efdaaafc6"
      },
      "outputs": [
        {
          "name": "stdout",
          "output_type": "stream",
          "text": [
            "Press 'a' - add contact, 'o' - open contact, 's' - search contact, 'q' - quit , 'x' - show all contactss\n",
            "Enter name of the contact you want to search. Aditya\n",
            "Name:  Aditya\n",
            "Number:  8754236478\n",
            "Email:  aditya567@gmail.com\n",
            "Press 'a' - add contact, 'o' - open contact, 's' - search contact, 'q' - quit , 'x' - show all contactsq\n"
          ]
        }
      ],
      "source": [
        "from IPython.display import clear_output\n",
        "\n",
        "def show_contacts(contacts):\n",
        "    for i in range (len(contacts)):\n",
        "      print(contacts[i]['name'])\n",
        "\n",
        "def add_contact(contacts):\n",
        "    name = input(\"Name: \")\n",
        "    num = int(input(\"Number: \"))\n",
        "    email = input(\"Email: \")\n",
        "    dict1 = {'name':name,'number':num,'email':email}\n",
        "\n",
        "    contacts.append(dict1)\n",
        "\n",
        "def delete_contact(contacts, name):\n",
        "    for i in range(len(contacts)):\n",
        "      if contacts[i]['name'] == name:\n",
        "        del contacts[i]\n",
        "        clear_output()\n",
        "        break\n",
        "\n",
        "def update_contact(contacts, Name):\n",
        "    print(\"Enter updated details\")\n",
        "    name = input(\"Name: \")\n",
        "    num = int(input(\"Number: \"))\n",
        "    email = input(\"Email: \")\n",
        "\n",
        "    for i in range(len(contacts)):\n",
        "      if contacts[i]['name'] == Name:\n",
        "        contacts[i]['name'] = name\n",
        "        contacts[i]['number'] = num\n",
        "        contacts[i]['email'] = email\n",
        "    clear_output()\n",
        "    print(show_contacts(contacts))\n",
        "\n",
        "def search_contact(contacts, name):\n",
        "    flag = False\n",
        "    for contact in contacts:\n",
        "      if contact['name'] == name:\n",
        "        print(\"Name: \",contact['name'])\n",
        "        print(\"Number: \",contact['number'])\n",
        "        print(\"Email: \",contact['email'])\n",
        "        flag = True\n",
        "\n",
        "    if flag == False:\n",
        "      print('No match found!')\n",
        "\n",
        "def open_contact(contacts, name):\n",
        "    flag = False\n",
        "    for contact in contacts:\n",
        "      if contact['name'] == name:\n",
        "        print(\"Name: \",contact['name'])\n",
        "        print(\"Number: \",contact['number'])\n",
        "        print(\"Email: \",contact['email'])\n",
        "        flag = True\n",
        "        operation = input(\"To Delete Press \\\"d\\\" and To Update Press \\\"u\\\"\")\n",
        "        clear_output()\n",
        "        if operation == \"d\":\n",
        "          delete_contact(contacts, name)\n",
        "        elif operation == 'u':\n",
        "          update_contact(contacts, name)\n",
        "        else:\n",
        "          break\n",
        "\n",
        "    if flag == False:\n",
        "      print('No match found!')\n",
        "\n",
        "contacts = [{\"name\":\"Anushka\",\"number\":\"8745963258\",\"email\":'anushka123@gmail.com'},{\"name\":\"Aditya\",\"number\":\"8754236478\",\"email\":'aditya567@gmail.com'},{\"name\":\"Kabir\",\"number\":\"8956398745\",\"email\":'kabir891@gmail.com'}]\n",
        "\n",
        "while True:\n",
        "\n",
        "    action = input(\"Press 'a' - add contact, 'o' - open contact, 's' - search contact, 'q' - quit , 'x' - show all contacts\")\n",
        "    if action == 'a':\n",
        "        add_contact(contacts)\n",
        "        clear_output()\n",
        "\n",
        "    elif action == 'o':\n",
        "        name = input(\"Enter name of the contact you want to open. \")\n",
        "        open_contact(contacts,name)\n",
        "\n",
        "    elif action == 's':\n",
        "        name = input(\"Enter name of the contact you want to search. \")\n",
        "        search_contact(contacts,name)\n",
        "\n",
        "    elif action == 'x':\n",
        "        show_contacts(contacts)\n",
        "\n",
        "    elif action == 'q':\n",
        "        False\n",
        "        break\n",
        "\n",
        "    else:\n",
        "        print(\"Invalid Input\")"
      ]
    },
    {
      "cell_type": "markdown",
      "metadata": {
        "id": "y7QIK9kNZH9S"
      },
      "source": [
        "## Using files\n",
        "\n",
        "One major problem with the above approach is \"persistent storage\". Every time you close this notebook, all the new contacts are lost. This happens because `contacts` is a python variable. Its lives inside python session. As soon as the session is killed/terminated, all the varibles are also deleted.\n",
        "\n",
        "To address this problem, we will have to use save the contacts in a disk. What better reason to use files? Instead of using *list of dictionary*, use file to save the contacts.\n",
        "\n",
        "Save every new contact in a new-line and use \" , \" to separate the contact fields. This is how the above contacts should look, when saved in a file.\n",
        "\n",
        "```text\n",
        "vivek, vivek@gmail.com, 9921668254\n",
        "ankur, ankur@gmail.com, 8806807004\n",
        "pranav, pranav@gmail.com, 987654321\n",
        "```\n",
        "\n",
        "You task is to make appropriate changes to the above code to use `contacts.txt` instead of using `contacts` list."
      ]
    },
    {
      "cell_type": "code",
      "source": [
        "from IPython.display import clear_output\n",
        "f = open('contacts.txt','w')\n",
        "f.write('vivek, vivek@gmail.com, 9921668254\\nankur, ankur@gmail.com, 8806807004\\npranav, pranav@gmail.com, 987654321')\n",
        "f.close()\n",
        "f = open('contacts.txt','r')\n",
        "print(f.read())\n",
        "f.close()\n",
        "contacts = \"contacts.txt\"\n",
        "\n",
        "def show_contacts(contacts):\n",
        "    f = open('contacts.txt','r')\n",
        "    print(f.read())\n",
        "    f.close()\n",
        "\n",
        "def add_contact(contacts):\n",
        "    name = input(\"Name: \")\n",
        "    num = input(\"Number: \")\n",
        "    email = input(\"Email: \")\n",
        "    with open(contacts,'a') as f:\n",
        "      f.write(\"\\n\"+name+\" \"+email+\" \"+num)\n",
        "\n",
        "def delete_contact(contacts,name):\n",
        "    with open(contacts,'r') as f:\n",
        "      lines = f.readlines()\n",
        "\n",
        "    for i,line in enumerate(lines):\n",
        "      if line.startswith(name):\n",
        "        del lines[i]\n",
        "        break\n",
        "\n",
        "    with open(contacts,'w') as f:\n",
        "      f.writelines(lines)\n",
        "\n",
        "def update_contact(contacts,name):\n",
        "  print(\"Enter updated details\")\n",
        "  Name = input(\"Name: \")\n",
        "  num = input(\"Number: \")\n",
        "  email = input(\"Email: \")\n",
        "\n",
        "  with open(contacts,'r') as f:\n",
        "      lines = f.readlines()\n",
        "\n",
        "  for i,line in enumerate(lines):\n",
        "    if line.startswith(name):\n",
        "      lines[i] = Name + \" \" + email + \" \" + num + \"\\n\"\n",
        "      break\n",
        "  with open(contacts,'w') as f:\n",
        "      f.writelines(lines)\n",
        "\n",
        "def search_contact(contacts,name):\n",
        "    with open(contacts,'r') as f:\n",
        "      lines = f.readlines()\n",
        "    flag = False\n",
        "    for i,line in enumerate(lines):\n",
        "      if line.startswith(name):\n",
        "        print(lines[i])\n",
        "        flag = True\n",
        "        break\n",
        "\n",
        "    if flag == False:\n",
        "      print('No contact found!!')\n",
        "\n",
        "def open_contact(contacts, name):\n",
        "    with open(contacts,'r') as f:\n",
        "      lines = f.readlines()\n",
        "    flag = False\n",
        "    for i,line in enumerate(lines):\n",
        "      if line.startswith(name):\n",
        "        print(lines[i])\n",
        "        flag = True\n",
        "        break\n",
        "    if flag == False:\n",
        "      print('No match found!')\n",
        "\n",
        "    else:\n",
        "      operation = input(\"To Delete Press \\\"d\\\" and To Update Press \\\"u\\\"\")\n",
        "      if operation == \"d\":\n",
        "        delete_contact(contacts, name)\n",
        "      elif operation == 'u':\n",
        "        update_contact(contacts, name)\n",
        "\n",
        "\n",
        "\n",
        "while True:\n",
        "    action = input(\"Press 'a' - add contact, 'o' - open contact, 's' - search contact, 'q' - quit , 'x' - show all contacts\")\n",
        "    if action == 'a':\n",
        "        clear_output()\n",
        "        add_contact(contacts)\n",
        "\n",
        "    elif action == 'o':\n",
        "        name = input(\"Enter name of the contact you want to open. \")\n",
        "        clear_output()\n",
        "        open_contact(contacts,name)\n",
        "\n",
        "    elif action == 's':\n",
        "        name = input(\"Enter name of the contact you want to search. \")\n",
        "        clear_output()\n",
        "        search_contact(contacts,name)\n",
        "\n",
        "    elif action == 'x':\n",
        "        show_contacts(contacts)\n",
        "\n",
        "    elif action == 'q':\n",
        "        False\n",
        "        break\n",
        "\n",
        "    else:\n",
        "        print(\"Invalid Input\")"
      ],
      "metadata": {
        "colab": {
          "base_uri": "https://localhost:8080/"
        },
        "id": "u6K8hB2V-FHh",
        "outputId": "496525fe-86c4-487d-bbc0-5f975b24bb21"
      },
      "execution_count": null,
      "outputs": [
        {
          "name": "stdout",
          "output_type": "stream",
          "text": [
            "Name: shfjg\n",
            "Number: fkfkg\n",
            "Email: fkfkg\n",
            "Press 'a' - add contact, 'o' - open contact, 's' - search contact, 'q' - quit , 'x' - show all contactsq\n"
          ]
        }
      ]
    },
    {
      "cell_type": "code",
      "source": [],
      "metadata": {
        "id": "TpYeDgbGOUds"
      },
      "execution_count": null,
      "outputs": []
    },
    {
      "cell_type": "code",
      "source": [],
      "metadata": {
        "id": "V7Q6MgnT8mkH"
      },
      "execution_count": null,
      "outputs": []
    },
    {
      "cell_type": "markdown",
      "metadata": {
        "id": "EKrwfJ8cZH9T"
      },
      "source": [
        "## Using Regex\n",
        "\n",
        "Yet another problem with our app is \"lack of validation\". While creating a new contact, user is free to enter anything. But why is that a problem?\n",
        "\n",
        "**Input validation** is important to ensure only properly formed data is entering the workflow in an information system, preventing malformed data from persisting in the database and triggering malfunction of various downstream components. Input validation should happen as early as possible in the data flow, preferably as soon as the data is received. [source](https://cheatsheetseries.owasp.org/cheatsheets/Input_Validation_Cheat_Sheet.html)\n",
        "\n",
        "The above paragraph is the complete gist of Input validation. Read it again & ponder for a minute. Its an important concept when building customer facing applications. We would highly recommend you to Google and read more about it.  \n",
        "\n",
        "Use regular expression to validate user input (before you save it to the file). Implement the following:\n",
        "- `Name` should be all alphabets. \" \" should also be allowed.\n",
        "- For `email` refer regex chapter from course material.\n",
        "- `Number` should have 10 digits. Not less, not more. Also, not alphabets should be allowed.\n",
        "- Add a new field `DOB` to each contact. It should follow YYYY-MM-DD format. Then write a regular expression to validate it. Remember, date & month cannot be greater that 31 & 12, respectively.\n",
        "\n",
        "Can you think of any more validations?"
      ]
    },
    {
      "cell_type": "code",
      "source": [
        "import re\n",
        "from IPython.display import clear_output\n",
        "f = open('contacts.txt','w')\n",
        "f.write('vivek, vivek@gmail.com, 9921668254\\nankur, ankur@gmail.com, 8806807004\\npranav, pranav@gmail.com, 987654321')\n",
        "f.close()\n",
        "f = open('contacts.txt','r')\n",
        "print(f.read())\n",
        "f.close()\n",
        "contacts = \"contacts.txt\"\n",
        "\n",
        "def show_contacts(contacts):\n",
        "    f = open('contacts.txt','r')\n",
        "    print(f.read())\n",
        "    f.close()\n",
        "\n",
        "def add_contact(contacts):\n",
        "    name = input(\"Name: \")\n",
        "    num = input(\"Number: \")\n",
        "    email = input(\"Email: \")\n",
        "    dob = input(\"Enter Date of Birth in format YYYY-MM-DD: \")\n",
        "    flag = False\n",
        "\n",
        "    pattern = '^[a-zA-Z\\s]+$'\n",
        "    pattern1 = '[0-9]{10}'\n",
        "    pattern2 = '^[a-zA-Z0-9._%+-]+@[a-zA-Z0-9.-]+\\.[a-zA-Z]{2,}$'\n",
        "    pattern3 = \"^[0-9]{4}-(0[1-9]|1[0-2])-(0[1-9]|[12][0-9]|3[01])$\"\n",
        "    if re.match(pattern,name):\n",
        "       if re.match(pattern1,num):\n",
        "         if re.match(pattern2,email):\n",
        "           if re.match(pattern3,dob):\n",
        "            flag = True\n",
        "\n",
        "    if flag == True:\n",
        "      with open(contacts,'a') as f:\n",
        "        f.write(\"\\n\"+name+\", \"+email+\", \"+num +\", \" +dob)\n",
        "    else:\n",
        "      print(\"Invalid Format!!\")\n",
        "\n",
        "def delete_contact(contacts,name):\n",
        "    with open(contacts,'r') as f:\n",
        "      lines = f.readlines()\n",
        "\n",
        "    for i,line in enumerate(lines):\n",
        "      if line.startswith(name):\n",
        "        del lines[i]\n",
        "        break\n",
        "\n",
        "    with open(contacts,'w') as f:\n",
        "      f.writelines(lines)\n",
        "\n",
        "def update_contact(contacts,name):\n",
        "  print(\"Enter updated details\")\n",
        "  Name = input(\"Name: \")\n",
        "  num = input(\"Number: \")\n",
        "  email = input(\"Email: \")\n",
        "  dob = input(\"Enter Date of Birth in format YYYY-MM-DD: \")\n",
        "\n",
        "  flag = False\n",
        "  pattern = '^[a-zA-Z\\s]+$'\n",
        "  pattern1 = '[0-9]{10}'\n",
        "  pattern2 = '^[a-zA-Z0-9._%+-]+@[a-zA-Z0-9.-]+\\.[a-zA-Z]{2,}$'\n",
        "  pattern3 = \"^[0-9]{4}-(0[1-9]|1[0-2])-(0[1-9]|[12][0-9]|3[01])$\"\n",
        "  if re.match(pattern,name):\n",
        "      if re.match(pattern1,num):\n",
        "        if re.match(pattern2,email):\n",
        "          if re.match(pattern3,dob):\n",
        "            flag = True\n",
        "\n",
        "  if flag == True:\n",
        "    with open(contacts,'r') as f:\n",
        "        lines = f.readlines()\n",
        "\n",
        "    for i,line in enumerate(lines):\n",
        "      if line.startswith(name):\n",
        "        lines[i] = Name + \", \" + email + \", \" + num + \", \" + dob +  \"\\n\"\n",
        "        break\n",
        "    with open(contacts,'w') as f:\n",
        "        f.writelines(lines)\n",
        "\n",
        "  else:\n",
        "    print(\"Invalid Format!!\")\n",
        "\n",
        "def search_contact(contacts,name):\n",
        "    with open(contacts,'r') as f:\n",
        "      lines = f.readlines()\n",
        "    flag = False\n",
        "    for i,line in enumerate(lines):\n",
        "      if line.startswith(name):\n",
        "        print(lines[i])\n",
        "        flag = True\n",
        "        break\n",
        "\n",
        "    if flag == False:\n",
        "      print('No contact found!!')\n",
        "\n",
        "def open_contact(contacts, name):\n",
        "    with open(contacts,'r') as f:\n",
        "      lines = f.readlines()\n",
        "    flag = False\n",
        "    for i,line in enumerate(lines):\n",
        "      if line.startswith(name):\n",
        "        print(lines[i])\n",
        "        flag = True\n",
        "        break\n",
        "    if flag == False:\n",
        "      print('No match found!')\n",
        "\n",
        "    else:\n",
        "      operation = input(\"To Delete Press \\\"d\\\" and To Update Press \\\"u\\\"\")\n",
        "      if operation == \"d\":\n",
        "        delete_contact(contacts, name)\n",
        "      elif operation == 'u':\n",
        "        update_contact(contacts, name)\n",
        "\n",
        "\n",
        "\n",
        "while True:\n",
        "    action = input(\"Press 'a' - add contact, 'o' - open contact, 's' - search contact, 'q' - quit , 'x' - show all contacts\")\n",
        "    if action == 'a':\n",
        "        clear_output()\n",
        "        add_contact(contacts)\n",
        "\n",
        "    elif action == 'o':\n",
        "        name = input(\"Enter name of the contact you want to open. \")\n",
        "        clear_output()\n",
        "        open_contact(contacts,name)\n",
        "\n",
        "    elif action == 's':\n",
        "        name = input(\"Enter name of the contact you want to search. \")\n",
        "        clear_output()\n",
        "        search_contact(contacts,name)\n",
        "\n",
        "    elif action == 'x':\n",
        "        show_contacts(contacts)\n",
        "\n",
        "    elif action == 'q':\n",
        "        False\n",
        "        break\n",
        "\n",
        "    else:\n",
        "        print(\"Invalid Input\")"
      ],
      "metadata": {
        "colab": {
          "base_uri": "https://localhost:8080/"
        },
        "id": "44qDe-mPY44W",
        "outputId": "b340552b-c23f-4908-892e-f5cea7fa648f"
      },
      "execution_count": null,
      "outputs": [
        {
          "name": "stdout",
          "output_type": "stream",
          "text": [
            "Name: shruti\n",
            "Number: 8989898989\n",
            "Email: shruti@gmail.com\n",
            "Enter Date of Birth in format YYYY-MM-DD: 2001-08-06\n",
            "Press 'a' - add contact, 'o' - open contact, 's' - search contact, 'q' - quit , 'x' - show all contactsx\n",
            "vivek, vivek@gmail.com, 9921668254\n",
            "ankur, ankur@gmail.com, 8806807004\n",
            "pranav, pranav@gmail.com, 987654321\n",
            "shruti shruti@gmail.com 8989898989 2001-08-06\n",
            "Press 'a' - add contact, 'o' - open contact, 's' - search contact, 'q' - quit , 'x' - show all contactsq\n"
          ]
        }
      ]
    },
    {
      "cell_type": "markdown",
      "metadata": {
        "id": "tiL1VVbWZH9T"
      },
      "source": [
        "We really hope you had a wonderful time building this applications. This is how applications are developed in really life. You start with a set of basic functionalities and then you keep adding new features (like persistent storage & validation). As the application grows in size, you might encounter new problems to solve."
      ]
    }
  ],
  "metadata": {
    "kernelspec": {
      "display_name": "Python 3",
      "language": "python",
      "name": "python3"
    },
    "language_info": {
      "codemirror_mode": {
        "name": "ipython",
        "version": 3
      },
      "file_extension": ".py",
      "mimetype": "text/x-python",
      "name": "python",
      "nbconvert_exporter": "python",
      "pygments_lexer": "ipython3",
      "version": "3.7.4"
    },
    "toc": {
      "base_numbering": 1,
      "nav_menu": {},
      "number_sections": true,
      "sideBar": true,
      "skip_h1_title": false,
      "title_cell": "Table of Contents",
      "title_sidebar": "Contents",
      "toc_cell": false,
      "toc_position": {},
      "toc_section_display": true,
      "toc_window_display": false
    },
    "colab": {
      "provenance": []
    }
  },
  "nbformat": 4,
  "nbformat_minor": 0
}