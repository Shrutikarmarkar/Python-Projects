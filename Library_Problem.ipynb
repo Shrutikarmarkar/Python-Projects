{
  "cells": [
    {
      "cell_type": "code",
      "source": [
        "import csv\n",
        "import os.path\n",
        "from os import path\n",
        "\n",
        "if path.exists('Student.txt') == False:\n",
        "  with open(\"Student.txt\",'w') as f:\n",
        "    f.write(\"New Student directory has been created!\")\n",
        "\n",
        "if path.exists('Book.txt')== False:\n",
        "  with open(\"Book.txt\",'w') as f:\n",
        "    f.write(\"New Book directory has been created!\")\n",
        "\n",
        "\n",
        "path\n",
        "class Student:\n",
        "    def __init__(self, student_id):\n",
        "        self.student_id = student_id\n",
        "\n",
        "\n",
        "class Library:\n",
        "    def __init__(self, book_id):\n",
        "        self.book_id = book_id\n",
        "\n",
        "class Issue(Student,Library):\n",
        "    dict1 ={}\n",
        "    books_dict = {id:\"Not_issued\" for id in range(1,21)}\n",
        "    def __init__(self):\n",
        "        self.student_id = None\n",
        "        self.book_id = None\n",
        "        self.status = None\n",
        "\n",
        "    def accept_data(self, student_id, book_id, status):\n",
        "        self.student_id = student_id\n",
        "        self.book_id = book_id\n",
        "        self.status = status.lower()\n",
        "\n",
        "        if self.book_id in self.books_dict.keys():\n",
        "            if self.student_id in self.dict1.keys():\n",
        "              if self.status == \"issue\":\n",
        "                if self.dict1[self.student_id] >= 3:\n",
        "                  return \"Limit Reached!\"\n",
        "                else:\n",
        "                    if self.books_dict[self.book_id] == \"Not_issued\":\n",
        "                        self.books_dict[self.book_id] = \"Issued\"\n",
        "                        v = int(self.dict1[self.student_id])+1\n",
        "                        self.dict1[self.student_id] = v\n",
        "                    else:\n",
        "                      return \"Book has already being issued!\"\n",
        "              elif self.status == \"return\":\n",
        "                if self.books_dict[self.book_id] == \"Issued\":\n",
        "                    self.books_dict[self.book_id] = \"Not_issued\"\n",
        "                    v = int(self.dict1[self.student_id])-1\n",
        "                    self.dict1[self.student_id] = v\n",
        "            else:\n",
        "              self.dict1[student_id] = 1\n",
        "              if self.status == \"issue\":\n",
        "                if self.books_dict[self.book_id] == \"Not_issued\":\n",
        "                  self.books_dict[self.book_id] = \"Issued\"\n",
        "                else:\n",
        "                  return \"Book has already being issued!\"\n",
        "              elif self.status == \"return\":\n",
        "                return \"Book has not being issued!\"\n",
        "\n",
        "            with open(\"Student.txt\",'w+') as f:\n",
        "              f.write(\"student_id\\t\\t\\tcount\\n\")\n",
        "              for k,v in self.dict1.items():\n",
        "                f.write(str(k).center(10)+str(v).center(18)+\"\\n\")\n",
        "\n",
        "            with open(\"Book.txt\",'w') as f:\n",
        "              f.write(\"Book_id\\t\\t\\tissued_or_not\\n\")\n",
        "              for k,v in self.books_dict.items():\n",
        "                f.write(str(k).center(10)+str(v).center(18)+\"\\n\")\n",
        "        else:\n",
        "            print(\"Book does not exist\")\n",
        "student = Issue()\n",
        "student.accept_data(1,2,\"issue\")"
      ],
      "metadata": {
        "id": "Bz1DGzIePqyN"
      },
      "execution_count": null,
      "outputs": []
    },
    {
      "cell_type": "code",
      "source": [
        "student.accept_data(1,2,\"issue\")"
      ],
      "metadata": {
        "colab": {
          "base_uri": "https://localhost:8080/",
          "height": 36
        },
        "id": "j5Dny1Toposx",
        "outputId": "b73dfaef-996f-4401-f9f1-091e8238e95e"
      },
      "execution_count": null,
      "outputs": [
        {
          "output_type": "execute_result",
          "data": {
            "text/plain": [
              "'Book has already being issued!'"
            ],
            "application/vnd.google.colaboratory.intrinsic+json": {
              "type": "string"
            }
          },
          "metadata": {},
          "execution_count": 22
        }
      ]
    },
    {
      "cell_type": "code",
      "source": [
        "student.accept_data(1,3,\"issue\")"
      ],
      "metadata": {
        "id": "ejnv41A4py3y"
      },
      "execution_count": null,
      "outputs": []
    },
    {
      "cell_type": "code",
      "source": [
        "student.accept_data(1,3,\"issue\")"
      ],
      "metadata": {
        "colab": {
          "base_uri": "https://localhost:8080/",
          "height": 36
        },
        "id": "ZzjgKSnBqHnf",
        "outputId": "b973fbf5-b0cb-4737-9b3a-83d9d0e251f2"
      },
      "execution_count": null,
      "outputs": [
        {
          "output_type": "execute_result",
          "data": {
            "text/plain": [
              "'Book has already being issued!'"
            ],
            "application/vnd.google.colaboratory.intrinsic+json": {
              "type": "string"
            }
          },
          "metadata": {},
          "execution_count": 24
        }
      ]
    },
    {
      "cell_type": "code",
      "source": [
        "student.accept_data(15,14,\"issue\")"
      ],
      "metadata": {
        "id": "YGh6L1nEqcZf"
      },
      "execution_count": null,
      "outputs": []
    },
    {
      "cell_type": "code",
      "source": [
        "student.accept_data(15,6,\"issue\")"
      ],
      "metadata": {
        "id": "GjYbufL5qjrA"
      },
      "execution_count": null,
      "outputs": []
    },
    {
      "cell_type": "code",
      "source": [
        "student.accept_data(9,7,\"issue\")"
      ],
      "metadata": {
        "id": "x-ZPpvX5sDh8"
      },
      "execution_count": null,
      "outputs": []
    },
    {
      "cell_type": "code",
      "source": [
        "student.accept_data(15,4,\"issue\")"
      ],
      "metadata": {
        "id": "fdsOHouBsF6b"
      },
      "execution_count": null,
      "outputs": []
    },
    {
      "cell_type": "code",
      "source": [
        "student.accept_data(15,15,\"issue\")"
      ],
      "metadata": {
        "colab": {
          "base_uri": "https://localhost:8080/",
          "height": 36
        },
        "id": "8QC3DJfisJQX",
        "outputId": "337ff15a-490f-4dec-c377-00af01aa828d"
      },
      "execution_count": null,
      "outputs": [
        {
          "output_type": "execute_result",
          "data": {
            "text/plain": [
              "'Limit Reached!'"
            ],
            "application/vnd.google.colaboratory.intrinsic+json": {
              "type": "string"
            }
          },
          "metadata": {},
          "execution_count": 29
        }
      ]
    },
    {
      "cell_type": "code",
      "source": [
        "student.accept_data(15,4,\"return\")"
      ],
      "metadata": {
        "id": "Z0yANxpdsLUT"
      },
      "execution_count": null,
      "outputs": []
    },
    {
      "cell_type": "code",
      "source": [
        "student.accept_data(15,16,\"issue\")"
      ],
      "metadata": {
        "id": "locVoRw91IA1"
      },
      "execution_count": null,
      "outputs": []
    },
    {
      "cell_type": "code",
      "source": [],
      "metadata": {
        "id": "0orpvi06K02y"
      },
      "execution_count": null,
      "outputs": []
    }
  ],
  "metadata": {
    "colab": {
      "provenance": []
    },
    "kernelspec": {
      "display_name": "Python 3",
      "name": "python3"
    },
    "language_info": {
      "name": "python"
    }
  },
  "nbformat": 4,
  "nbformat_minor": 0
}