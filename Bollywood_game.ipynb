{
  "nbformat": 4,
  "nbformat_minor": 0,
  "metadata": {
    "colab": {
      "provenance": []
    },
    "kernelspec": {
      "name": "python3",
      "display_name": "Python 3"
    },
    "language_info": {
      "name": "python"
    }
  },
  "cells": [
    {
      "cell_type": "code",
      "execution_count": null,
      "metadata": {
        "colab": {
          "base_uri": "https://localhost:8080/"
        },
        "id": "En6wFchkgpVj",
        "outputId": "1bb2fa97-4fb6-4715-8891-e7a9088aae41"
      },
      "outputs": [
        {
          "output_type": "stream",
          "name": "stdout",
          "text": [
            "_YE ___D___\n",
            "BOLLYWOOD, chances =  BOLLYWOOD\n",
            "Guess a letter: M\n",
            "_YE ___D___\n",
            "OLLYWOOD chances left:  8\n",
            "Guess a letter: A\n",
            "AYE ___DA__\n",
            "OLLYWOOD chances left:  8\n",
            "Guess a letter: N\n",
            "AYE __NDA__\n",
            "OLLYWOOD chances left:  8\n",
            "Guess a letter: H\n",
            "AYE __NDA__\n",
            "LLYWOOD chances left:  7\n",
            "Guess a letter: S\n",
            "AYE __NDA__\n",
            "LYWOOD chances left:  6\n",
            "Guess a letter: J\n",
            "AYE __NDA__\n",
            "YWOOD chances left:  5\n",
            "Guess a letter: D\n",
            "AYE __NDA__\n",
            "YWOOD chances left:  5\n",
            "Guess a letter: G\n",
            "AYE __NDAG_\n",
            "YWOOD chances left:  5\n",
            "Guess a letter: I\n",
            "AYE _INDAGI\n",
            "YWOOD chances left:  5\n",
            "Guess a letter: Z\n",
            "AYE ZINDAGI\n",
            "YWOOD chances left:  5\n",
            "Congrats you won!!\n"
          ]
        }
      ],
      "source": [
        "import random\n",
        "import re\n",
        "\n",
        "movie_lst = [\"DOCTOR G\",\"YEH ZINDAGI\",\"HUM AAPKE HAI KON\",\"DRISHYAM\",\"SHERSHAAH\",\"PATHAAN\",\"KGF CHAPTER 2\"]\n",
        "movie = random.choice(movie_lst)\n",
        "original_movie = movie\n",
        "\n",
        "chances = \"BOLLYWOOD\"\n",
        "\n",
        "for j in range (int(len(movie)/2)):\n",
        "  l = random.randint(0,len(movie)-1)\n",
        "  while movie[l].isalpha() == False or movie[l]==\" \":\n",
        "    l = random.randint(0,len(movie)-1)\n",
        "  movie = movie.replace(movie[l],\"_\")\n",
        "\n",
        "print(movie)\n",
        "print(\"BOLLYWOOD, chances = \",chances)\n",
        "play = True\n",
        "while play:\n",
        "    correct = False\n",
        "    guess = input(\"Guess a letter: \").upper()\n",
        "    for i in range(len(original_movie)):\n",
        "      if original_movie[i] == guess:\n",
        "          listed_string = list(movie)\n",
        "          listed_string[i] = guess\n",
        "          movie = \"\".join(listed_string)\n",
        "          correct = True\n",
        "    if correct == False:\n",
        "        chances = chances.replace(chances[0],\"\",1)\n",
        "    print(movie)\n",
        "    print(chances,\"chances left: \",len(chances))\n",
        "\n",
        "    if movie==original_movie and len(chances)>0:\n",
        "      print(\"Congrats you won!!\")\n",
        "      play = False\n",
        "\n",
        "    if len(chances)==0:\n",
        "      print(\"You lose!, The movie was: \"+original_movie)\n",
        "      play = False\n"
      ]
    },
    {
      "cell_type": "code",
      "source": [],
      "metadata": {
        "id": "iW41dpzg-TCW"
      },
      "execution_count": null,
      "outputs": []
    },
    {
      "cell_type": "code",
      "source": [],
      "metadata": {
        "id": "8sRSdm1tjLY6"
      },
      "execution_count": null,
      "outputs": []
    }
  ]
}