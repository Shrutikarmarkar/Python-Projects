{
  "cells": [
    {
      "cell_type": "markdown",
      "id": "303d18ca",
      "metadata": {
        "id": "303d18ca"
      },
      "source": [
        "## OOP project"
      ]
    },
    {
      "cell_type": "markdown",
      "id": "5cada111",
      "metadata": {
        "id": "5cada111"
      },
      "source": [
        "A Bike Rental System\n",
        "\n",
        "A full fledged bike rental system implemented in Python using object oriented programming.\n",
        "\n",
        "Customers can see available bikes on the shop.\n",
        "Rent bikes on daily basis Rs.100 per day.\n",
        "Rent bikes on weekly basis Rs.500 per week.\n",
        "Family Rental, a promotion that can include from 3 to 5 Rentals (of any type) with a discount of 30% of the total price.\n",
        "\n",
        "The bike rental shop can issue a bill when customer decides to return the bike,\n",
        "display available inventory ,take requests on daily and weekly basis by cross verifying stock.\n",
        "\n",
        "For simplicity we assume that\n",
        "Any customer requests rentals of only one type i.e daily or weekly and is free to choose the number of bikes he/she wants.\n",
        "Requested bikes should be less than available stock."
      ]
    },
    {
      "cell_type": "code",
      "execution_count": null,
      "id": "81b2891a",
      "metadata": {
        "id": "81b2891a"
      },
      "outputs": [],
      "source": []
    },
    {
      "cell_type": "markdown",
      "id": "abae9162",
      "metadata": {
        "id": "abae9162"
      },
      "source": [
        "## Step 1\n",
        "\n",
        "Create a parent class `BikeRental`. Define `stock` as `class attribute` and assign value 100 to it.\n",
        "\n",
        "This class should not take any other attribute and when the object is created, it should display the message \"Welcome to rental bike shop.\"\n",
        "\n",
        "Define a method `displaystock` inside this class and when this method is called, it should display the total number of stock available."
      ]
    },
    {
      "cell_type": "code",
      "execution_count": null,
      "id": "8816e06c",
      "metadata": {
        "id": "8816e06c"
      },
      "outputs": [],
      "source": [
        "class BikeRental():\n",
        "  stock = 100\n",
        "\n",
        "  def __init__(self):\n",
        "    print(\"Welcome to rental bike shop\")\n",
        "\n",
        "  def displaystock(self):\n",
        "    print(self.stock)\n",
        ""
      ]
    },
    {
      "cell_type": "markdown",
      "id": "2ca3fb5c",
      "metadata": {
        "id": "2ca3fb5c"
      },
      "source": [
        "Create an object `bike_shop` of above class."
      ]
    },
    {
      "cell_type": "code",
      "execution_count": null,
      "id": "5184fc96",
      "metadata": {
        "colab": {
          "base_uri": "https://localhost:8080/"
        },
        "id": "5184fc96",
        "outputId": "63c34040-6f7d-4181-f32b-6aa7150ec1e1"
      },
      "outputs": [
        {
          "output_type": "stream",
          "name": "stdout",
          "text": [
            "Welcome to rental bike shop\n"
          ]
        }
      ],
      "source": [
        "bike_shop = BikeRental()"
      ]
    },
    {
      "cell_type": "markdown",
      "id": "73d006a8",
      "metadata": {
        "id": "73d006a8"
      },
      "source": [
        "Check if above created object can access the `class attribute` `stock`."
      ]
    },
    {
      "cell_type": "code",
      "execution_count": null,
      "id": "a96da206",
      "metadata": {
        "scrolled": true,
        "colab": {
          "base_uri": "https://localhost:8080/"
        },
        "id": "a96da206",
        "outputId": "fa445410-8316-4aef-f40e-881f4ead2c96"
      },
      "outputs": [
        {
          "output_type": "execute_result",
          "data": {
            "text/plain": [
              "100"
            ]
          },
          "metadata": {},
          "execution_count": 12
        }
      ],
      "source": [
        "bike_shop.stock"
      ]
    },
    {
      "cell_type": "code",
      "execution_count": null,
      "id": "4460bd03",
      "metadata": {
        "id": "4460bd03"
      },
      "outputs": [],
      "source": []
    },
    {
      "cell_type": "markdown",
      "id": "a702f97d",
      "metadata": {
        "id": "a702f97d"
      },
      "source": [
        "Call the method `displaystock` using above created object `bike_shop`."
      ]
    },
    {
      "cell_type": "code",
      "execution_count": null,
      "id": "c4dc35b0",
      "metadata": {
        "colab": {
          "base_uri": "https://localhost:8080/"
        },
        "id": "c4dc35b0",
        "outputId": "68437ef8-d05e-4856-b54f-26f85f9e1366"
      },
      "outputs": [
        {
          "output_type": "stream",
          "name": "stdout",
          "text": [
            "100\n"
          ]
        }
      ],
      "source": [
        "bike_shop.displaystock()"
      ]
    },
    {
      "cell_type": "code",
      "execution_count": null,
      "id": "6a859671",
      "metadata": {
        "id": "6a859671"
      },
      "outputs": [],
      "source": []
    },
    {
      "cell_type": "markdown",
      "id": "d3a33de1",
      "metadata": {
        "id": "d3a33de1"
      },
      "source": [
        "## Step 2\n",
        "\n",
        "Create a derived class `Customer` to inherit the methods from `BikeRental` class.\n",
        "Define `bill` as `class attribute`and set it's initial value as zero.\n",
        "\n",
        "This class has `number_of_bikes`, `rentalBasis` (daily or weekly) and `number_of_days_or_weeks` as attributes."
      ]
    },
    {
      "cell_type": "code",
      "execution_count": null,
      "id": "50196270",
      "metadata": {
        "id": "50196270"
      },
      "outputs": [],
      "source": [
        "class Customer(BikeRental):\n",
        "  bill = 0\n",
        "\n",
        "  def __init__(self,number_of_bikes,rentalBasis,number_of_days_or_week):\n",
        "    self.number_of_bikes = number_of_bikes\n",
        "    self.rentalBasis = rentalBasis\n",
        "    self.number_of_days_or_week = number_of_days_or_week"
      ]
    },
    {
      "cell_type": "code",
      "execution_count": null,
      "id": "363883ea",
      "metadata": {
        "id": "363883ea"
      },
      "outputs": [],
      "source": []
    },
    {
      "cell_type": "markdown",
      "id": "98a400fe",
      "metadata": {
        "id": "98a400fe"
      },
      "source": [
        "Define a function `rentBike`, it should have following conditions:\n",
        "\n",
        "- if `number_of_bikes` is less than or equal to zero, it should display the message \"Number of bikes should be positive!\".\n",
        "\n",
        "- if `number_of_bikes` is greater than the `stock`, it should display the `number_of_bikes` available to rent.\n",
        "\n",
        "- Otherwise display the total `number_of_bikes` rented by the customer. Do not forget to update the value of `stock` i.e. subtract the `number_of_bikes` rented from stock and display the updated `stock`."
      ]
    },
    {
      "cell_type": "code",
      "execution_count": null,
      "id": "0f15d993",
      "metadata": {
        "id": "0f15d993"
      },
      "outputs": [],
      "source": [
        "def rentBike():\n",
        "  if number_of_bikes <= 0:\n",
        "    print(\"Number of bikes should be positive!\")\n",
        "  elif number_of_bikes > stock:\n",
        "    print(number_of_bikes,\"Available to rent\")\n",
        "  else:\n",
        "    print(number_of_bikes,\"bikes are rented\")\n",
        "    stock -= number_of_bikes\n",
        "    print(\"Updated stock: \",stock)\n",
        ""
      ]
    },
    {
      "cell_type": "code",
      "execution_count": null,
      "id": "e66fb261",
      "metadata": {
        "id": "e66fb261"
      },
      "outputs": [],
      "source": []
    },
    {
      "cell_type": "markdown",
      "id": "cb22ec0f",
      "metadata": {
        "id": "cb22ec0f"
      },
      "source": [
        "Define a function `returnBike` to return the total bill of customer.\n",
        "- Check if `rentalBasis` is ' daily ' or ' weekly ' and accordingly calculate the bill. Rent on ' daily ' basis is Rs. 100 per bike and for ' weekly ' basis it is Rs. 500 per bike.\n",
        "\n",
        "- If `number_of_bikes` rented by customer is between 3 to 5 (both values inclusive), 30% discount is offered on total bill. So it should display the message \"You are eligible for Family rental promotion of 30% discount\"."
      ]
    },
    {
      "cell_type": "code",
      "execution_count": null,
      "id": "48be1e59",
      "metadata": {
        "id": "48be1e59"
      },
      "outputs": [],
      "source": [
        "def returnBike():\n",
        "  if rentalBasis == \"daily\":\n",
        "    bill = number_of_bikes*100\n",
        "  elif rentalBasis == \"weekly\":\n",
        "    bill = number_of_bikes*500\n",
        "\n",
        "  if number_of_bikes in range(3,6):\n",
        "    bill = bill*0.3\n",
        "    print(\"You are eligible for Family rental promotion of 30% discount\")\n"
      ]
    },
    {
      "cell_type": "code",
      "execution_count": null,
      "id": "29935c98",
      "metadata": {
        "id": "29935c98"
      },
      "outputs": [],
      "source": []
    },
    {
      "cell_type": "markdown",
      "id": "fa66397a",
      "metadata": {
        "id": "fa66397a"
      },
      "source": [
        "## Step 3\n",
        "\n",
        "Write complete `Customer` class using above defined functions `returnBike` and `rentBike` inside it as methods."
      ]
    },
    {
      "cell_type": "code",
      "execution_count": null,
      "id": "e1c7c3f5",
      "metadata": {
        "id": "e1c7c3f5"
      },
      "outputs": [],
      "source": [
        "class Customer(BikeRental):\n",
        "  bill = 0\n",
        "\n",
        "  def __init__(self,number_of_bikes,rentalBasis,number_of_days_or_week):\n",
        "    self.number_of_bikes = number_of_bikes\n",
        "    self.rentalBasis = rentalBasis\n",
        "    self.number_of_days_or_week = number_of_days_or_week\n",
        "\n",
        "  def rentBike(self):\n",
        "    if self.number_of_bikes <= 0:\n",
        "      print(\"Number of bikes should be positive!\")\n",
        "    elif self.number_of_bikes > self.stock:\n",
        "      print(self.number_of_bikes,\"Available to rent\")\n",
        "    else:\n",
        "      print(self.number_of_bikes,\"bikes are rented\")\n",
        "      self.stock = self.stock-self.number_of_bikes\n",
        "      return \"Updated stock: \",self.stock\n",
        "\n",
        "  def returnBike(self):\n",
        "    if self.rentalBasis == \"daily\":\n",
        "      self.bill = self.number_of_bikes*100\n",
        "    elif self.rentalBasis == \"weekly\":\n",
        "      self.bill = self.number_of_bikes*500\n",
        "\n",
        "    if self.number_of_bikes in range(3,6):\n",
        "      self.bill = self.bill*0.3\n",
        "      return \"You are eligible for Family rental promotion of 30% discount\"\n"
      ]
    },
    {
      "cell_type": "code",
      "execution_count": null,
      "id": "b8753564",
      "metadata": {
        "id": "b8753564"
      },
      "outputs": [],
      "source": [
        "class BikeRental():\n",
        "  stock = 100\n",
        "\n",
        "  def __init__(self):\n",
        "    print(\"Welcome to rental bike shop\")\n",
        "\n",
        "  def displaystock(self):\n",
        "    print(self.stock)\n",
        "\n",
        "class Customer(BikeRental):\n",
        "  bill = 0\n",
        "\n",
        "  def __init__(self,number_of_bikes,rentalBasis,number_of_days_or_week):\n",
        "    self.number_of_bikes = number_of_bikes\n",
        "    self.rentalBasis = rentalBasis\n",
        "    self.number_of_days_or_week = number_of_days_or_week\n",
        "\n",
        "  def rentBike(self):\n",
        "    if self.number_of_bikes <= 0:\n",
        "      print(\"Number of bikes should be positive!\")\n",
        "    elif self.number_of_bikes > BikeRental.stock:\n",
        "      print(self.number_of_bikes,\"Available to rent\")\n",
        "    else:\n",
        "      print(self.number_of_bikes,\"bikes are rented\")\n",
        "      BikeRental.stock = BikeRental.stock-self.number_of_bikes\n",
        "      return \"Updated stock: \",BikeRental.stock\n",
        "\n",
        "  def returnBike(self):\n",
        "    if self.rentalBasis == \"daily\":\n",
        "      self.bill = self.number_of_bikes*100\n",
        "    elif self.rentalBasis == \"weekly\":\n",
        "      self.bill = self.number_of_bikes*500\n",
        "\n",
        "    if self.number_of_bikes in range(3,6):\n",
        "      self.bill = self.bill*0.3\n",
        "      return \"You are eligible for Family rental promotion of 30% discount\"\n",
        "\n",
        "\n"
      ]
    },
    {
      "cell_type": "markdown",
      "id": "dea7483f",
      "metadata": {
        "id": "dea7483f"
      },
      "source": [
        "## Step 4\n",
        "\n",
        "Check your `Bike Rental System` for test-case objects given below :\n",
        "\n",
        "For first four customers - check all the three attribute values and call `rentBike` and `returnBike` methods.\n",
        "\n",
        "- customer_1 = Customer(2,'day',5)\n",
        "\n",
        "- customer_2 = Customer(1,'week',3)\n",
        "\n",
        "- customer_3 = Customer(4,'day',3)  - Is family discount applicable here ?\n",
        "\n",
        "- customer_4 = Customer(3,'week',3) - Is family discount applicable here ?\n",
        "\n",
        "Call `rentBike` and `displaystock` methods for test-case objects given below :\n",
        "\n",
        "- customer_5 = Customer(120,'week',3)\n",
        "\n",
        "- customer_6 = Customer(0,'week',3)\n",
        "\n",
        "- customer_7 = Customer(-5,'week',3)\n",
        "\n",
        "- customer_8 = Customer(1,'day',3)"
      ]
    },
    {
      "cell_type": "code",
      "execution_count": null,
      "id": "40d0a7aa",
      "metadata": {
        "id": "40d0a7aa"
      },
      "outputs": [],
      "source": [
        "customer_1 = Customer(2,'day',5)\n",
        "\n",
        "customer_2 = Customer(1,'week',3)\n",
        "\n",
        "customer_3 = Customer(4,'day',3)\n",
        "\n",
        "customer_4 = Customer(3,'week',3)"
      ]
    },
    {
      "cell_type": "code",
      "source": [
        "customer_1 = Customer(2,'day',5)\n",
        "print(customer_1.number_of_bikes)\n",
        "print(customer_1.rentalBasis)\n",
        "print(customer_1.number_of_days_or_week)\n",
        "print(customer_1.rentBike())\n",
        "print(customer_1.returnBike())"
      ],
      "metadata": {
        "colab": {
          "base_uri": "https://localhost:8080/"
        },
        "id": "BxucsDwHflEL",
        "outputId": "8f1b843e-6bcc-4bd9-be39-b70915dc4afd"
      },
      "id": "BxucsDwHflEL",
      "execution_count": null,
      "outputs": [
        {
          "output_type": "stream",
          "name": "stdout",
          "text": [
            "2\n",
            "day\n",
            "5\n",
            "2 bikes are rented\n",
            "('Updated stock: ', 98)\n",
            "None\n"
          ]
        }
      ]
    },
    {
      "cell_type": "code",
      "source": [
        "customer_2 = Customer(1,'week',3)\n",
        "print(customer_2.number_of_bikes)\n",
        "print(customer_2.rentalBasis)\n",
        "print(customer_2.number_of_days_or_week)\n",
        "print(customer_2.rentBike())\n",
        "print(customer_2.returnBike())"
      ],
      "metadata": {
        "colab": {
          "base_uri": "https://localhost:8080/"
        },
        "id": "WB8OxPblf_GB",
        "outputId": "dc3cb0e5-1662-4139-cb5e-a427bb32165e"
      },
      "id": "WB8OxPblf_GB",
      "execution_count": null,
      "outputs": [
        {
          "output_type": "stream",
          "name": "stdout",
          "text": [
            "1\n",
            "week\n",
            "3\n",
            "1 bikes are rented\n",
            "('Updated stock: ', 97)\n",
            "None\n"
          ]
        }
      ]
    },
    {
      "cell_type": "code",
      "source": [
        "customer_3 = Customer(4,'day',3)\n",
        "print(customer_3.number_of_bikes)\n",
        "print(customer_3.rentalBasis)\n",
        "print(customer_3.number_of_days_or_week)\n",
        "print(customer_3.rentBike())\n",
        "print(customer_3.returnBike())"
      ],
      "metadata": {
        "colab": {
          "base_uri": "https://localhost:8080/"
        },
        "id": "Hd8fEE6ZgESf",
        "outputId": "bc9b64b6-1ac8-4f7c-d985-6be56d142b7f"
      },
      "id": "Hd8fEE6ZgESf",
      "execution_count": null,
      "outputs": [
        {
          "output_type": "stream",
          "name": "stdout",
          "text": [
            "4\n",
            "day\n",
            "3\n",
            "4 bikes are rented\n",
            "('Updated stock: ', 93)\n",
            "You are eligible for Family rental promotion of 30% discount\n"
          ]
        }
      ]
    },
    {
      "cell_type": "code",
      "source": [
        "print(customer_4.number_of_bikes)\n",
        "print(customer_4.rentalBasis)\n",
        "print(customer_4.number_of_days_or_week)\n",
        "print(customer_4.rentBike())\n",
        "print(customer_4.returnBike())"
      ],
      "metadata": {
        "colab": {
          "base_uri": "https://localhost:8080/"
        },
        "id": "85GWU6hCgKHU",
        "outputId": "0c9ff250-3d22-411d-a430-f38762018f24"
      },
      "id": "85GWU6hCgKHU",
      "execution_count": null,
      "outputs": [
        {
          "output_type": "stream",
          "name": "stdout",
          "text": [
            "3\n",
            "week\n",
            "3\n",
            "3 bikes are rented\n",
            "('Updated stock: ', 90)\n",
            "You are eligible for Family rental promotion of 30% discount\n"
          ]
        }
      ]
    },
    {
      "cell_type": "code",
      "source": [
        "\n"
      ],
      "metadata": {
        "id": "OHfS99XngMuZ"
      },
      "id": "OHfS99XngMuZ",
      "execution_count": null,
      "outputs": []
    }
  ],
  "metadata": {
    "kernelspec": {
      "display_name": "Python 3",
      "language": "python",
      "name": "python3"
    },
    "language_info": {
      "codemirror_mode": {
        "name": "ipython",
        "version": 3
      },
      "file_extension": ".py",
      "mimetype": "text/x-python",
      "name": "python",
      "nbconvert_exporter": "python",
      "pygments_lexer": "ipython3",
      "version": "3.8.8"
    },
    "colab": {
      "provenance": []
    }
  },
  "nbformat": 4,
  "nbformat_minor": 5
}