{
  "nbformat": 4,
  "nbformat_minor": 0,
  "metadata": {
    "colab": {
      "provenance": []
    },
    "kernelspec": {
      "name": "python3",
      "display_name": "Python 3"
    },
    "language_info": {
      "name": "python"
    }
  },
  "cells": [
    {
      "cell_type": "markdown",
      "source": [
        "# **Water Bucket Puzzel Game**\n",
        "\n",
        "Create the famous water bucket puzzle game using Python.\n",
        "\n",
        "Play Game!\n",
        "\n",
        "https://novelgames.com/en/jars\n",
        "\n",
        "---\n",
        "**Notebook Content**:\n",
        "\n",
        "\n",
        "\n",
        "*   **Lesson 1** :\n",
        "\n",
        "  Setting up the initial environment of the game.\n",
        "*   **Lesson 2 :**\n",
        "\n",
        "  Adding the required valid and invalid conditions alongwith their operations.\n",
        "\n",
        "\n",
        "*  Lesson 3 :\n",
        "\n",
        "  Combining all segments of the code to build the game.\n"
      ],
      "metadata": {
        "id": "vz9M5x3019ec"
      }
    },
    {
      "cell_type": "markdown",
      "source": [
        "# Rules :\n",
        "\n",
        "1) You can fill a bucket with water.\n",
        "\n",
        "2) You can empty a bucket.\n",
        "\n",
        "3) You can pour water from one bucket to the other.\n",
        "\n",
        "4) The goal is to measure 4 liters of    water using the two buckets."
      ],
      "metadata": {
        "id": "MSUBB0Xl4ydO"
      }
    },
    {
      "cell_type": "markdown",
      "source": [
        "## **Lesson 1**\n",
        "\n",
        "**Setting up the initial environment of the game**"
      ],
      "metadata": {
        "id": "P-dsL8eC6Fy1"
      }
    },
    {
      "cell_type": "markdown",
      "source": [
        "In the initial condition we start by defining the initial capacities of the two buckets using variables."
      ],
      "metadata": {
        "id": "lNsFWnW_7WPi"
      }
    },
    {
      "cell_type": "markdown",
      "source": [
        "# **Define initial variables**\n",
        "\n",
        "\n",
        "*   Define variable bucket1 and bucket2.\n",
        "\n",
        "*   we will use bucket1 and bucket2 to represent the two buckets, and initialize their capacities to 0.\n",
        "\n",
        "\n",
        "*   Now take variables max_b1 and max_b2 to represent maximum value of two buckets and initialize their value to 5 & 3 respectively.\n",
        "\n",
        "\n",
        "\n",
        "\n",
        "\n",
        "*   **List of Variables** :\n",
        "\n",
        "```\n",
        "bucket1 ,bucket2 , max_b1 , max_b2\n",
        "```\n",
        "\n",
        "\n",
        "\n",
        "\n",
        "\n",
        "\n"
      ],
      "metadata": {
        "id": "dec5a86p7mFy"
      }
    },
    {
      "cell_type": "code",
      "source": [
        "bucket1 = 0\n",
        "bucket2 = 0\n",
        "max_b1 = 5\n",
        "max_b2 = 3"
      ],
      "metadata": {
        "id": "ZFQ_XIFA2Kdf"
      },
      "execution_count": null,
      "outputs": []
    },
    {
      "cell_type": "markdown",
      "source": [
        "Now display the initial condition of game. Initially buckets are empty.\n",
        "\n",
        "\n",
        "```\n",
        "bucket 1 : 0 liters and bucket 2 : 0 liters\n",
        "\n",
        "```\n",
        "\n"
      ],
      "metadata": {
        "id": "NYSKSasi-FpO"
      }
    },
    {
      "cell_type": "code",
      "source": [
        "print(\"bucket 1 : \", bucket1 , \" liters and bucket 2 : \", bucket2, \" liters\")"
      ],
      "metadata": {
        "colab": {
          "base_uri": "https://localhost:8080/"
        },
        "id": "a0SNXjgG9dKN",
        "outputId": "b97860a4-d4fa-4143-b87a-a8a99996cd7d"
      },
      "execution_count": null,
      "outputs": [
        {
          "output_type": "stream",
          "name": "stdout",
          "text": [
            "bucket 1 :  0  liters and bucket 2 :  0  liters\n"
          ]
        }
      ]
    },
    {
      "cell_type": "markdown",
      "source": [
        "## **Lesson 2**\n",
        "Adding the required valid and invalid conditions alongwith their operations"
      ],
      "metadata": {
        "id": "tooG6RXPBcY2"
      }
    },
    {
      "cell_type": "markdown",
      "source": [
        "Take input from user and store it in the variable 'choice'.\n",
        "\n",
        "player's choice of action : fill a bucket, empty a bucket, or pour water from one bucket to the other or quit the game .\n",
        "\n",
        "**Note :** Make sure you pass appropriate message in input fuction that assits user in entering values."
      ],
      "metadata": {
        "id": "GQdwDdnHCCXT"
      }
    },
    {
      "cell_type": "code",
      "source": [
        "choice = input(\"Enter your choice: a] fill a bucket  b] empty a bucket  c] pour water from on bucket to the other  d] quit the game   \\n\")"
      ],
      "metadata": {
        "id": "cxfKM6hQ-j3z",
        "colab": {
          "base_uri": "https://localhost:8080/"
        },
        "outputId": "c60a6877-e182-4196-b88d-cd9d0eddfd41"
      },
      "execution_count": null,
      "outputs": [
        {
          "name": "stdout",
          "output_type": "stream",
          "text": [
            "Enter your choice: a] fill a bucket  b] empty a bucket  c] pour water from on bucket to the other  d] quit the game   \n",
            "a\n"
          ]
        }
      ]
    },
    {
      "cell_type": "markdown",
      "source": [
        "If player's choice is \"fill\" take two inputs:\n",
        "\n",
        "1)'bucket_choice' which bucket player wants to fill.\n",
        "\n",
        "2)'amount'  how much amount of water player wants to fill.\n",
        "\n",
        "**List of variables to take inputs**\n",
        "\n",
        "\n",
        "```\n",
        "bucket_choice , amount\n",
        "```\n",
        "\n"
      ],
      "metadata": {
        "id": "cOh2ec67JTmx"
      }
    },
    {
      "cell_type": "code",
      "source": [
        "if choice == \"a\":\n",
        "  bucket_choice = input(\"Enter the bucket you want to fill (bucket 1 or bucket 2) \\n\")\n",
        "  amount = input(\"how much amount of water you want to fill \\n\")"
      ],
      "metadata": {
        "id": "67noFxxRM3HW",
        "colab": {
          "base_uri": "https://localhost:8080/"
        },
        "outputId": "7b4c4f74-a761-49b0-c4ab-ea2aae680117"
      },
      "execution_count": null,
      "outputs": [
        {
          "name": "stdout",
          "output_type": "stream",
          "text": [
            "Enter the bucket you want to fill  \n",
            "bucket 1\n",
            "how much amount of water you want to fill \n",
            "5\n"
          ]
        }
      ]
    },
    {
      "cell_type": "markdown",
      "source": [
        "**Invalid Input**\n",
        "\n",
        "Check for invalid inputs as entered amount cannot be negative(less than 0), amount cannot exceed its maximum value, and if entered amount is not equal to maximum value print \" Invalid Input\" .\n",
        "\n",
        "else print max value of buckets initialized before."
      ],
      "metadata": {
        "id": "cN3nZOJ5LAx0"
      }
    },
    {
      "cell_type": "markdown",
      "source": [
        "Check for both buckets 1 and 2."
      ],
      "metadata": {
        "id": "OPHazgP5M_6c"
      }
    },
    {
      "cell_type": "code",
      "source": [
        "if bucket_choice == \"bucket 1\":\n",
        "  if amount <0 or amount > max_b1 or amount!=5:\n",
        "    print(\"Invalid Input\")\n",
        "  else:\n",
        "    print(\"Max value of bucket 1 : \", max_b1)\n",
        "else:\n",
        "  if amount <0 or amount > max_b2 or amount!=5:\n",
        "    print(\"Invalid Input\")\n",
        "  else:\n",
        "    print(\"Max value of bucket 2 : \", max_b2)"
      ],
      "metadata": {
        "colab": {
          "base_uri": "https://localhost:8080/"
        },
        "id": "eLvYctpqH7Gh",
        "outputId": "ddbe1767-6ccb-4199-800f-10e455c600e7"
      },
      "execution_count": null,
      "outputs": [
        {
          "output_type": "stream",
          "name": "stdout",
          "text": [
            "Max value of bucket 1 :  5\n"
          ]
        }
      ]
    },
    {
      "cell_type": "markdown",
      "source": [
        "Now display buckets fill with water.\n",
        "\n",
        "\n",
        "\n",
        "```\n",
        "bucket 1 : 5 liters and bucket 2 : 3 liters\n",
        "```\n",
        "\n"
      ],
      "metadata": {
        "id": "6IcHyhYaN3S4"
      }
    },
    {
      "cell_type": "code",
      "source": [
        "print(\"bucket 1 : \", max_b1 , \" liters and bucket 2 : \", max_b2, \" liters\")"
      ],
      "metadata": {
        "colab": {
          "base_uri": "https://localhost:8080/"
        },
        "id": "ZhI2oNG_NnaD",
        "outputId": "29aef3c5-ffb0-44c5-ba60-fc7aeff12230"
      },
      "execution_count": null,
      "outputs": [
        {
          "output_type": "stream",
          "name": "stdout",
          "text": [
            "bucket 1 :  5  liters and bucket 2 :  3  liters\n"
          ]
        }
      ]
    },
    {
      "cell_type": "markdown",
      "source": [
        "If player's choice is \"empty\" :\n",
        "\n",
        "take input to select the bucket to empty and set the capacity of the selected bucket to 0."
      ],
      "metadata": {
        "id": "t_vntE4SwHBz"
      }
    },
    {
      "cell_type": "code",
      "source": [
        "if choice == \"b\":\n",
        "  empty = input(\"Select the bucket to Empty: \")\n",
        "  if empty == \"bucket 1\":\n",
        "    bucket1 = 0\n",
        "  elif empty == 'bucket 2':\n",
        "    bucket2 = 0"
      ],
      "metadata": {
        "id": "H7i2jOCKOOAu"
      },
      "execution_count": null,
      "outputs": []
    },
    {
      "cell_type": "markdown",
      "source": [
        "If player's choice is \"pour\" :\n",
        "\n",
        "take input as from_bucket, to_bucket, and the amount to pour.\n",
        "\n",
        "**List of variables to take inputs**:\n",
        "\n",
        "```\n",
        "from_bucket , to_bucket , amount\n",
        "```\n",
        "\n"
      ],
      "metadata": {
        "id": "zvPA1DltwmJJ"
      }
    },
    {
      "cell_type": "code",
      "source": [
        "if choice == \"c\":\n",
        "  from_bucket = input(\"From bucket: \")\n",
        "  to_bucket = input(\"To bucket: \")\n",
        "  amount = input(\"Enter the amount of water: \")\n"
      ],
      "metadata": {
        "id": "7uTBhICivwRP"
      },
      "execution_count": null,
      "outputs": []
    },
    {
      "cell_type": "code",
      "source": [
        "from_bucket = input(\"From bucket: \")\n",
        "to_bucket = input(\"To bucket: \")\n",
        "amount = input(\"Enter the amount of water: \")\n"
      ],
      "metadata": {
        "colab": {
          "base_uri": "https://localhost:8080/"
        },
        "id": "vodj2CvbuOnB",
        "outputId": "96cc4a58-182c-4d48-a27d-0c6f7d72efc1"
      },
      "execution_count": null,
      "outputs": [
        {
          "name": "stdout",
          "output_type": "stream",
          "text": [
            "From bucket: bucket 1\n",
            "To bucket: bucket 2\n",
            "Enter the amount of water: 2\n"
          ]
        }
      ]
    },
    {
      "cell_type": "markdown",
      "source": [
        "check for **Invalid Input** :\n",
        "\n",
        "if player choose to pour water from bucket1 to bucket2 ,\n",
        "\n",
        "check if the amount entered by player is negative , amount is greater than bucket1, and amount is greater than bucket2's  limit\n",
        "\n",
        "print \"Invalid Input\" .\n",
        "\n",
        "else reduce amount from bucket1 and add to bucket2.\n"
      ],
      "metadata": {
        "id": "wWsv8hboyfZe"
      }
    },
    {
      "cell_type": "code",
      "source": [
        "if from_bucket == \"bucket 1\" and to_bucket == \"bucket 2\":\n",
        "  if amount<0 or amount>bucket1 or amount>max_b2:\n",
        "    print(\"Invalid Input\")\n",
        "  else:\n",
        "    bucket1 -= amount\n",
        "    bucket2 += amount"
      ],
      "metadata": {
        "id": "f81w6-rEydM2",
        "colab": {
          "base_uri": "https://localhost:8080/",
          "height": 235
        },
        "outputId": "522f2d6d-4f40-4f41-af32-68a3e5b5d8a5"
      },
      "execution_count": null,
      "outputs": [
        {
          "output_type": "error",
          "ename": "TypeError",
          "evalue": "ignored",
          "traceback": [
            "\u001b[0;31m---------------------------------------------------------------------------\u001b[0m",
            "\u001b[0;31mTypeError\u001b[0m                                 Traceback (most recent call last)",
            "\u001b[0;32m<ipython-input-21-93b286b94bd8>\u001b[0m in \u001b[0;36m<cell line: 1>\u001b[0;34m()\u001b[0m\n\u001b[1;32m      1\u001b[0m \u001b[0;32mif\u001b[0m \u001b[0mfrom_bucket\u001b[0m \u001b[0;34m==\u001b[0m \u001b[0;34m\"bucket 1\"\u001b[0m \u001b[0;32mand\u001b[0m \u001b[0mto_bucket\u001b[0m \u001b[0;34m==\u001b[0m \u001b[0;34m\"bucket 2\"\u001b[0m\u001b[0;34m:\u001b[0m\u001b[0;34m\u001b[0m\u001b[0;34m\u001b[0m\u001b[0m\n\u001b[0;32m----> 2\u001b[0;31m   \u001b[0;32mif\u001b[0m \u001b[0mamount\u001b[0m\u001b[0;34m<\u001b[0m\u001b[0;36m0\u001b[0m \u001b[0;32mor\u001b[0m \u001b[0mamount\u001b[0m\u001b[0;34m>\u001b[0m\u001b[0mbucket1\u001b[0m \u001b[0;32mor\u001b[0m \u001b[0mamount\u001b[0m\u001b[0;34m>\u001b[0m\u001b[0mmax_b2\u001b[0m\u001b[0;34m:\u001b[0m\u001b[0;34m\u001b[0m\u001b[0;34m\u001b[0m\u001b[0m\n\u001b[0m\u001b[1;32m      3\u001b[0m     \u001b[0mprint\u001b[0m\u001b[0;34m(\u001b[0m\u001b[0;34m\"Invalid Input\"\u001b[0m\u001b[0;34m)\u001b[0m\u001b[0;34m\u001b[0m\u001b[0;34m\u001b[0m\u001b[0m\n\u001b[1;32m      4\u001b[0m   \u001b[0;32melse\u001b[0m\u001b[0;34m:\u001b[0m\u001b[0;34m\u001b[0m\u001b[0;34m\u001b[0m\u001b[0m\n\u001b[1;32m      5\u001b[0m     \u001b[0mbucket1\u001b[0m \u001b[0;34m-=\u001b[0m \u001b[0mamount\u001b[0m\u001b[0;34m\u001b[0m\u001b[0;34m\u001b[0m\u001b[0m\n",
            "\u001b[0;31mTypeError\u001b[0m: '<' not supported between instances of 'str' and 'int'"
          ]
        }
      ]
    },
    {
      "cell_type": "markdown",
      "source": [
        "If player choose to pour water from bucket2 to bucket1 do same procedure and check amount is greater than limit of bucket1.\n",
        "\n",
        "print \"Invalid\""
      ],
      "metadata": {
        "id": "pX1NfDBb1qV_"
      }
    },
    {
      "cell_type": "code",
      "source": [
        "if from_bucket == \"bucket 2\" and to_bucket == \"bucket 1\":\n",
        "  if amount<0 or amount>bucket2 or amount>max_b1:\n",
        "    print(\"Invalid Input\")\n",
        "  else:\n",
        "    bucket2 -= amount\n",
        "    bucket1 += amount"
      ],
      "metadata": {
        "id": "2_KeRA5w1E6h"
      },
      "execution_count": null,
      "outputs": []
    },
    {
      "cell_type": "markdown",
      "source": [
        "Now print water in bucket ."
      ],
      "metadata": {
        "id": "zU4T0M1i2NFs"
      }
    },
    {
      "cell_type": "code",
      "source": [],
      "metadata": {
        "id": "2fOd9gEy2Fr1"
      },
      "execution_count": null,
      "outputs": []
    },
    {
      "cell_type": "markdown",
      "source": [
        "If player's choice is \"quit\""
      ],
      "metadata": {
        "id": "PGLxXH6P2yO8"
      }
    },
    {
      "cell_type": "code",
      "source": [],
      "metadata": {
        "id": "bIlNlZt62fUr"
      },
      "execution_count": null,
      "outputs": []
    },
    {
      "cell_type": "markdown",
      "source": [
        "Win condition : if bucket1 measures 4 liters of water print \"win\"."
      ],
      "metadata": {
        "id": "9pkLgKD03TtE"
      }
    },
    {
      "cell_type": "code",
      "source": [],
      "metadata": {
        "id": "7d99JbMl3Ftp"
      },
      "execution_count": null,
      "outputs": []
    },
    {
      "cell_type": "markdown",
      "source": [
        "# **Lesson 3**\n",
        "Combining all segments of the code to build the game.\n",
        "\n",
        "Take while loop to continue the game until win condition"
      ],
      "metadata": {
        "id": "w8dBV1FJ4QiW"
      }
    },
    {
      "cell_type": "code",
      "source": [
        "max_b1 = 7\n",
        "max_b2 = 5\n",
        "current_b1 = 0\n",
        "current_b2 = 0\n",
        "game = True\n",
        "print(\"bucket 1 : \", current_b1 , \" liters and bucket 2 : \", current_b2, \" liters\")\n",
        "\n",
        "while game == True:\n",
        "  choice = input(\"Enter your choice: a] fill a bucket  b] empty a bucket  c] pour water from one bucket to the other  d] quit the game   \\n\")\n",
        "\n",
        "  if choice == \"a\":\n",
        "    fill = input(\"Enter 1 to fill bucket 1 or Enter 2 to fill bucket 2: \\n\")\n",
        "    if fill == \"1\":\n",
        "      current_b1 = 7\n",
        "    elif fill == \"2\":\n",
        "      current_b2 = 5\n",
        "    else:\n",
        "      print(\"Invalid Input, Try Again!!\")\n",
        "      continue\n",
        "    print(\"bucket 1 : \", current_b1 , \" liters and bucket 2 : \", current_b2, \" liters\")\n",
        "\n",
        "  elif choice == \"b\":\n",
        "    empty =input( \"Enter 1 to empty the 1st bucket or Enter 2 to empty the 2nd bucket\")\n",
        "    if empty == \"1\":\n",
        "      current_b1 = 0\n",
        "    elif empty == \"2\":\n",
        "      current_b2 = 0\n",
        "    else:\n",
        "      print(\"Invalid Input, Try Again\")\n",
        "      continue\n",
        "    print(\"bucket 1 : \", current_b1 , \" liters and bucket 2 : \", current_b2, \" liters\")\n",
        "\n",
        "  elif choice == \"c\":\n",
        "    from_bucket = input(\"Enter the bucket to pour from: 1 or 2: \")\n",
        "    if from_bucket == \"1\":\n",
        "      if current_b1-(current_b2)<0:\n",
        "        print(\"Invalid Move!!,Try Again!!\")\n",
        "        continue\n",
        "      else:\n",
        "        temp = current_b2\n",
        "        current_b2 = min(current_b2+current_b1,max_b2)\n",
        "        current_b1 = current_b1-abs(current_b2-temp)\n",
        "    elif from_bucket == \"2\":\n",
        "      if current_b2 - (current_b1)<0:\n",
        "        print(\"Invalid Move!!,Try Again!!\")\n",
        "        continue\n",
        "      else:\n",
        "        temp = current_b1\n",
        "        current_b1 = min(current_b2+current_b1,max_b1)\n",
        "        current_b2 = current_b2 - abs(current_b1-temp)\n",
        "    else:\n",
        "      print(\"Invalid Input, Try Again!\")\n",
        "      continue\n",
        "\n",
        "    print(\"bucket 1 : \", current_b1 , \" liters and bucket 2 : \", current_b2, \" liters\")\n",
        "\n",
        "  elif choice == \"d\":\n",
        "    print(\"You Quit, you Lose\")\n",
        "    game = False\n",
        "    break\n",
        "\n",
        "  else:\n",
        "    print(\"Invalid Input, Try Again!!\")\n",
        "    break\n",
        "\n",
        "\n",
        "  if current_b1 == 4:\n",
        "    print(\"You Win!!\")\n",
        "    game = False\n",
        "    break\n",
        "\n",
        "\n",
        "\n",
        "\n"
      ],
      "metadata": {
        "id": "182zaRep5Y8Q",
        "colab": {
          "base_uri": "https://localhost:8080/"
        },
        "outputId": "414f502c-7ac2-4e07-b36b-8f8de2efd046"
      },
      "execution_count": null,
      "outputs": [
        {
          "output_type": "stream",
          "name": "stdout",
          "text": [
            "bucket 1 :  0  liters and bucket 2 :  0  liters\n",
            "Enter your choice: a] fill a bucket  b] empty a bucket  c] pour water from on bucket to the other  d] quit the game   \n",
            "a\n",
            "Enter 1 to fill bucket 1 or Enter 2 to fill bucket 2: \n",
            "1\n",
            "bucket 1 :  7  liters and bucket 2 :  0  liters\n",
            "Enter your choice: a] fill a bucket  b] empty a bucket  c] pour water from on bucket to the other  d] quit the game   \n",
            "c\n",
            "Enter the bucket to pour from: 1 or 2: 1\n",
            "bucket 1 :  2  liters and bucket 2 :  5  liters\n",
            "Enter your choice: a] fill a bucket  b] empty a bucket  c] pour water from on bucket to the other  d] quit the game   \n",
            "b\n",
            "Enter 1 to empty the 1st bucket or Enter 2 to empty the 2nd bucket2\n",
            "bucket 1 :  2  liters and bucket 2 :  0  liters\n",
            "Enter your choice: a] fill a bucket  b] empty a bucket  c] pour water from on bucket to the other  d] quit the game   \n",
            "c\n",
            "Enter the bucket to pour from: 1 or 2: 1\n",
            "bucket 1 :  0  liters and bucket 2 :  2  liters\n",
            "Enter your choice: a] fill a bucket  b] empty a bucket  c] pour water from on bucket to the other  d] quit the game   \n",
            "a\n",
            "Enter 1 to fill bucket 1 or Enter 2 to fill bucket 2: \n",
            "1\n",
            "bucket 1 :  7  liters and bucket 2 :  2  liters\n",
            "Enter your choice: a] fill a bucket  b] empty a bucket  c] pour water from on bucket to the other  d] quit the game   \n",
            "c\n",
            "Enter the bucket to pour from: 1 or 2: 1\n",
            "bucket 1 :  4  liters and bucket 2 :  5  liters\n",
            "You Win!!\n"
          ]
        }
      ]
    },
    {
      "cell_type": "code",
      "source": [],
      "metadata": {
        "id": "hLk1tk3xpMk1"
      },
      "execution_count": null,
      "outputs": []
    }
  ]
}